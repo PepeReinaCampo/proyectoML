{
 "cells": [
  {
   "cell_type": "markdown",
   "metadata": {},
   "source": [
    " <img src=\"Imagenes/aug_aff.jpg\" alt=\"Imagen creada con inteligencia artificial y editada con Microsoft Paint\" style=\"border-radius: 15px; width: 85%;\">\n",
    "\n",
    "*Imagen creada con inteligencia artificial*\n"
   ]
  },
  {
   "cell_type": "markdown",
   "metadata": {},
   "source": [
    "## **INTRODUCCIÓN**\n",
    "\n",
    "Pese a que en este caso el **desbalanceo** sea mucho menor, la clase con mayor representación es **Neutral** con un **19,59%**, y la que menos es **Asco** con un **9,46%**. Resulta interesante **balancearlas**, dado que buscamos un modelo que funcione lo mejor posible.\n"
   ]
  },
  {
   "cell_type": "markdown",
   "metadata": {},
   "source": [
    "## **BIBLIOTECAS USADAS:**"
   ]
  },
  {
   "cell_type": "code",
   "execution_count": 1,
   "metadata": {},
   "outputs": [],
   "source": [
    "import numpy as np\n",
    "import pandas as pd \n",
    "import matplotlib.pyplot as plt \n",
    "import ast  \n",
    "from scipy.ndimage import rotate  \n",
    "import random \n",
    "pd.options.mode.chained_assignment = None"
   ]
  },
  {
   "cell_type": "markdown",
   "metadata": {},
   "source": [
    "## **CARGA DEL DASET**"
   ]
  },
  {
   "cell_type": "code",
   "execution_count": 2,
   "metadata": {},
   "outputs": [],
   "source": [
    "df_train = pd.read_csv('./datos/AffectNet/df_train_aff.csv')\n",
    "df_test= pd.read_csv('./datos/AffectNet/df_test_aff.csv')\n",
    "df_val= pd.read_csv('./datos/AffectNet/df_val_aff.csv')"
   ]
  },
  {
   "cell_type": "markdown",
   "metadata": {},
   "source": [
    "## **FLIP HORIZONTAL**\n",
    "\n",
    ">Después del proceso de **data augmentation**, todas las clases tendrán la misma cantidad de **fotografías** (arrays en verdad).    \n",
    ">Igualaremos el número de fotografías a la clase que más tiene, a esta, de momento, no le haremos nada.    \n",
    ">Para las demás clases, haremos distintos procesos hasta que todas se igualen.  \n",
    ">El primer proceso será un \"flip horizontal.  \n"
   ]
  },
  {
   "cell_type": "code",
   "execution_count": 3,
   "metadata": {},
   "outputs": [
    {
     "data": {
      "text/plain": [
       "emotion\n",
       "6    4101\n",
       "3    4036\n",
       "5    3232\n",
       "0    2575\n",
       "2    2541\n",
       "4    2473\n",
       "1    1982\n",
       "Name: count, dtype: int64"
      ]
     },
     "execution_count": 3,
     "metadata": {},
     "output_type": "execute_result"
    }
   ],
   "source": [
    "df_train['emotion'].value_counts()"
   ]
  },
  {
   "cell_type": "code",
   "execution_count": 4,
   "metadata": {},
   "outputs": [],
   "source": [
    "def seleccionar_aleatoriamente(df, emotion, n):\n",
    "    return df[df['emotion'] == emotion].sample(n=n, random_state=42)\n",
    "df_emotion_3 = seleccionar_aleatoriamente(df_train, 3, 65)\n",
    "df_emotion_5 = seleccionar_aleatoriamente(df_train, 5, 869)\n",
    "df_emotion_0 = seleccionar_aleatoriamente(df_train, 0, 1526)\n",
    "df_emotion_2 = seleccionar_aleatoriamente(df_train, 2, 1560)\n",
    "df_emotion_4 = seleccionar_aleatoriamente(df_train, 4, 1628)\n",
    "df_emotion_1 = df_train[df_train['emotion'] == 1]\n",
    "\n",
    "df_train_espejo = pd.concat([df_emotion_3, df_emotion_5, df_emotion_0, df_emotion_2, df_emotion_4, df_emotion_1])\n",
    "df_train_espejo = df_train_espejo.reset_index(drop=True) "
   ]
  },
  {
   "cell_type": "code",
   "execution_count": 5,
   "metadata": {},
   "outputs": [
    {
     "data": {
      "text/plain": [
       "emotion\n",
       "1    1982\n",
       "4    1628\n",
       "2    1560\n",
       "0    1526\n",
       "5     869\n",
       "3      65\n",
       "Name: count, dtype: int64"
      ]
     },
     "execution_count": 5,
     "metadata": {},
     "output_type": "execute_result"
    }
   ],
   "source": [
    "df_train_espejo['emotion'].value_counts()"
   ]
  },
  {
   "cell_type": "markdown",
   "metadata": {},
   "source": [
    ">**Vemos que si sumamos estas (es decir, las lineas que serán volteadas) y los conteos de los datasets de partida, da como resultado que las clases se equilibran (excepto la clase 1,la más desfavorecida)... en otras palabras, vamos bien.**"
   ]
  },
  {
   "cell_type": "markdown",
   "metadata": {},
   "source": [
    "### **TEST**"
   ]
  },
  {
   "cell_type": "code",
   "execution_count": 6,
   "metadata": {},
   "outputs": [
    {
     "data": {
      "text/plain": [
       "emotion\n",
       "6    512\n",
       "3    504\n",
       "5    403\n",
       "0    321\n",
       "2    317\n",
       "4    309\n",
       "1    247\n",
       "Name: count, dtype: int64"
      ]
     },
     "execution_count": 6,
     "metadata": {},
     "output_type": "execute_result"
    }
   ],
   "source": [
    "df_test['emotion'].value_counts()"
   ]
  },
  {
   "cell_type": "code",
   "execution_count": 7,
   "metadata": {},
   "outputs": [],
   "source": [
    "df_emotion_3_test = seleccionar_aleatoriamente(df_test, 3, 8)\n",
    "df_emotion_5_test = seleccionar_aleatoriamente(df_test, 5, 109)\n",
    "df_emotion_0_test = seleccionar_aleatoriamente(df_test, 0, 191)\n",
    "df_emotion_2_test = seleccionar_aleatoriamente(df_test, 2, 195)\n",
    "df_emotion_4_test = seleccionar_aleatoriamente(df_test, 4, 203)\n",
    "df_emotion_1_test = df_test[df_test['emotion'] == 1]\n",
    "df_test_espejo = pd.concat([ df_emotion_3_test, df_emotion_5_test, df_emotion_0_test, df_emotion_2_test, df_emotion_4_test, df_emotion_1_test])\n",
    "df_test_espejo = df_test_espejo.reset_index(drop=True) "
   ]
  },
  {
   "cell_type": "code",
   "execution_count": 8,
   "metadata": {},
   "outputs": [
    {
     "data": {
      "text/plain": [
       "emotion\n",
       "1    247\n",
       "4    203\n",
       "2    195\n",
       "0    191\n",
       "5    109\n",
       "3      8\n",
       "Name: count, dtype: int64"
      ]
     },
     "execution_count": 8,
     "metadata": {},
     "output_type": "execute_result"
    }
   ],
   "source": [
    "df_test_espejo['emotion'].value_counts()"
   ]
  },
  {
   "cell_type": "markdown",
   "metadata": {},
   "source": [
    "### **VAL**"
   ]
  },
  {
   "cell_type": "code",
   "execution_count": 9,
   "metadata": {},
   "outputs": [
    {
     "data": {
      "text/plain": [
       "emotion\n",
       "6    513\n",
       "3    504\n",
       "5    404\n",
       "0    322\n",
       "2    318\n",
       "4    309\n",
       "1    248\n",
       "Name: count, dtype: int64"
      ]
     },
     "execution_count": 9,
     "metadata": {},
     "output_type": "execute_result"
    }
   ],
   "source": [
    "df_val['emotion'].value_counts()"
   ]
  },
  {
   "cell_type": "code",
   "execution_count": 10,
   "metadata": {},
   "outputs": [],
   "source": [
    "df_emotion_3_val = seleccionar_aleatoriamente(df_val, 3, 9)\n",
    "df_emotion_5_val = seleccionar_aleatoriamente(df_val, 5, 109)\n",
    "df_emotion_0_val = seleccionar_aleatoriamente(df_val, 0, 191)\n",
    "df_emotion_2_val = seleccionar_aleatoriamente(df_val, 2, 195)\n",
    "df_emotion_4_val = seleccionar_aleatoriamente(df_val, 4, 204)\n",
    "df_emotion_1_val = df_val[df_val['emotion'] == 1]\n",
    "df_val_espejo = pd.concat([ df_emotion_3_val, df_emotion_5_val, df_emotion_0_val, df_emotion_2_val, df_emotion_4_val, df_emotion_1_val])\n",
    "df_val_espejo = df_val_espejo.reset_index(drop=True)\n"
   ]
  },
  {
   "cell_type": "code",
   "execution_count": 11,
   "metadata": {},
   "outputs": [
    {
     "data": {
      "text/plain": [
       "emotion\n",
       "1    248\n",
       "4    204\n",
       "2    195\n",
       "0    191\n",
       "5    109\n",
       "3      9\n",
       "Name: count, dtype: int64"
      ]
     },
     "execution_count": 11,
     "metadata": {},
     "output_type": "execute_result"
    }
   ],
   "source": [
    "df_val_espejo['emotion'].value_counts()"
   ]
  },
  {
   "cell_type": "code",
   "execution_count": 12,
   "metadata": {},
   "outputs": [],
   "source": [
    "def flip_image_horizontal(pixel_string):\n",
    "    try:\n",
    "        pixel_values = list(map(int, pixel_string.split()))\n",
    "        size = int(np.sqrt(len(pixel_values)))\n",
    "        image_matrix = np.array(pixel_values).reshape((size, size))\n",
    "        flipped_image_matrix = np.fliplr(image_matrix)\n",
    "        flipped_pixel_string = ' '.join(map(str, flipped_image_matrix.flatten()))\n",
    "        return flipped_pixel_string\n",
    "    except Exception as e:\n",
    "        print(f\"Error al procesar la imagen: {e}\")\n",
    "        return pixel_string  # Devuelve la cadena original en caso de error\n"
   ]
  },
  {
   "cell_type": "markdown",
   "metadata": {},
   "source": [
    ">**Aquí definimos la función que dará la vuelta horizontalmente a las fotografías (realmente se la da a la cadena).**"
   ]
  },
  {
   "cell_type": "code",
   "execution_count": 13,
   "metadata": {},
   "outputs": [],
   "source": [
    "df_train_espejo.loc[:, 'pixels'] = df_train_espejo['pixels'].apply(lambda x: flip_image_horizontal(x))\n",
    "df_test_espejo.loc[:, 'pixels'] = df_test_espejo['pixels'].apply(lambda x: flip_image_horizontal(x))\n",
    "df_val_espejo.loc[:, 'pixels'] = df_val_espejo['pixels'].apply(lambda x: flip_image_horizontal(x))"
   ]
  },
  {
   "cell_type": "markdown",
   "metadata": {},
   "source": [
    "> **Y con estas llamadas a la función, le damos la vuelta a las líneas que habíamos elegido antes.**"
   ]
  },
  {
   "cell_type": "markdown",
   "metadata": {},
   "source": [
    "## **VISUALIZACIÓN.**  \n",
    "> **Visualizaremos las imágenes para verificar si ha ido bien. Primero las visualizaremos sin el flip y luego con el flip. Dado que las imágenes que han sido volteadas en las clases menos desfavorecidas se han elegido aleatoriamente, solo observaremos esto en las clases más desfavorecidas (que se han volteado completamente).**"
   ]
  },
  {
   "cell_type": "code",
   "execution_count": 14,
   "metadata": {},
   "outputs": [],
   "source": [
    "emotion_labels = {0: 'Enfado',1: 'Asco',2: 'Miedo',3: 'Felicidad',4: 'Tristeza',5: 'Sorpresa',6: 'Neutral'}#No es necesario visualizar todas las clases para ver que ha ido bien.\n",
    "def mostrar_imagenes_emocion(df, emotion):\n",
    "    filtered_df = df[df['emotion'] == emotion].head(3)  \n",
    "    fig, axes = plt.subplots(nrows=1, ncols=3, figsize=(15, 5))\n",
    "    fig.suptitle(f'Emoción: {emotion_labels[emotion]}', fontsize=16)  \n",
    "    for i, ax in enumerate(axes):\n",
    "        if i < len(filtered_df):\n",
    "            pixels = np.array(filtered_df.iloc[i]['pixels'].split(), dtype='int').reshape(48, 48)\n",
    "            ax.imshow(pixels, cmap='gray')\n",
    "            ax.axis('off')   \n",
    "    plt.tight_layout()\n",
    "    plt.show()"
   ]
  },
  {
   "cell_type": "markdown",
   "metadata": {},
   "source": [
    "> **Esta función nos mostrará las imágenes.**"
   ]
  },
  {
   "cell_type": "markdown",
   "metadata": {},
   "source": [
    "## **SIN VOLTEAR**"
   ]
  },
  {
   "cell_type": "code",
   "execution_count": 15,
   "metadata": {},
   "outputs": [
    {
     "data": {
      "image/png": "[encoded data removed]",
      "text/plain": [
       "<Figure size 1500x500 with 3 Axes>"
      ]
     },
     "metadata": {},
     "output_type": "display_data"
    }
   ],
   "source": [
    "for emotion in [ 1]:\n",
    "    mostrar_imagenes_emocion(df_train, emotion)"
   ]
  },
  {
   "cell_type": "markdown",
   "metadata": {},
   "source": [
    "## **VOLTEADAS**"
   ]
  },
  {
   "cell_type": "code",
   "execution_count": 16,
   "metadata": {},
   "outputs": [
    {
     "data": {
      "image/png": "[encoded data removed]",
      "text/plain": [
       "<Figure size 1500x500 with 3 Axes>"
      ]
     },
     "metadata": {},
     "output_type": "display_data"
    }
   ],
   "source": [
    "for emotion in [ 1]:\n",
    "    mostrar_imagenes_emocion(df_train_espejo, emotion)"
   ]
  },
  {
   "cell_type": "markdown",
   "metadata": {},
   "source": [
    ">Solo una clase se ha tomado **entera**, las demás se han tomado **aleatoriamente**, por lo que sería **difícil** mostrar las mismas. Viendo una sola **expresión** nos basta para ver que efectivamente se han **volteado horizontalmente**.   \n",
    ">   \n",
    "> **Hemos comprobado que el volteo ha sido exitoso. Ahora podemos unir los datasets volteados con sus respectivos sin voltear.**\n"
   ]
  },
  {
   "cell_type": "markdown",
   "metadata": {},
   "source": [
    "## **UNIÓN DE LOS DATASETS VOLTEADOS CON LOS DATASETS ORIGINALES**"
   ]
  },
  {
   "cell_type": "code",
   "execution_count": 17,
   "metadata": {},
   "outputs": [],
   "source": [
    "df_train = pd.concat([df_train_espejo, df_train], ignore_index=True)\n",
    "df_test = pd.concat([df_test_espejo, df_test], ignore_index=True)\n",
    "df_val = pd.concat([df_val_espejo, df_val], ignore_index=True)  "
   ]
  },
  {
   "cell_type": "markdown",
   "metadata": {},
   "source": [
    "## **COMPROBAMOS**"
   ]
  },
  {
   "cell_type": "code",
   "execution_count": 18,
   "metadata": {},
   "outputs": [
    {
     "name": "stdout",
     "output_type": "stream",
     "text": [
      "El dataset de entenamiento ha quedado así:\n",
      "emotion\n",
      "3    4101\n",
      "5    4101\n",
      "0    4101\n",
      "2    4101\n",
      "4    4101\n",
      "6    4101\n",
      "1    3964\n",
      "Name: count, dtype: int64\n",
      "\n",
      "El dataset de validación ha quedado así:\n",
      "emotion\n",
      "3    513\n",
      "5    513\n",
      "0    513\n",
      "2    513\n",
      "4    513\n",
      "6    513\n",
      "1    496\n",
      "Name: count, dtype: int64\n",
      "\n",
      "El dataset pruebas ha quedado así:\n",
      "emotion\n",
      "3    512\n",
      "5    512\n",
      "0    512\n",
      "2    512\n",
      "4    512\n",
      "6    512\n",
      "1    494\n",
      "Name: count, dtype: int64\n"
     ]
    }
   ],
   "source": [
    "print(\"El dataset de entenamiento ha quedado así:\")\n",
    "print(df_train['emotion'].value_counts())\n",
    "print()\n",
    "print(\"El dataset de validación ha quedado así:\")\n",
    "print(df_val['emotion'].value_counts())\n",
    "print()\n",
    "print(\"El dataset pruebas ha quedado así:\")\n",
    "print(df_test['emotion'].value_counts())"
   ]
  },
  {
   "cell_type": "markdown",
   "metadata": {},
   "source": [
    ">**Se ha quedado prácticamente balanceado, solo queda por balancear la clase 1, asco/Disgust.**  \n",
    ">  \n",
    ">\"En este punto 'FER2013' aún estaba desbalanceada en la clase 5 (**Sorpresa**).\"\n",
    "\n"
   ]
  },
  {
   "cell_type": "code",
   "execution_count": 19,
   "metadata": {},
   "outputs": [
    {
     "data": {
      "text/plain": [
       "Usage\n",
       "Training    28570\n",
       "Name: count, dtype: int64"
      ]
     },
     "execution_count": 19,
     "metadata": {},
     "output_type": "execute_result"
    }
   ],
   "source": [
    "df_train['Usage'].value_counts() "
   ]
  },
  {
   "cell_type": "code",
   "execution_count": 20,
   "metadata": {},
   "outputs": [
    {
     "data": {
      "text/plain": [
       "Usage\n",
       "PublicTest    3566\n",
       "Name: count, dtype: int64"
      ]
     },
     "execution_count": 20,
     "metadata": {},
     "output_type": "execute_result"
    }
   ],
   "source": [
    "df_test['Usage'].value_counts()"
   ]
  },
  {
   "cell_type": "code",
   "execution_count": 21,
   "metadata": {},
   "outputs": [
    {
     "data": {
      "text/plain": [
       "Usage\n",
       "PrivateTest    3574\n",
       "Name: count, dtype: int64"
      ]
     },
     "execution_count": 21,
     "metadata": {},
     "output_type": "execute_result"
    }
   ],
   "source": [
    "df_val['Usage'].value_counts()"
   ]
  },
  {
   "cell_type": "markdown",
   "metadata": {},
   "source": [
    "> **No se han mezclado durante el proceso.**"
   ]
  },
  {
   "cell_type": "markdown",
   "metadata": {},
   "source": [
    "## **ROTACIONES**  \n",
    ">**Solo queda balancear la clase 1; con solo rotar parte de las fotografia con un angulo será sufuciciente.**"
   ]
  },
  {
   "cell_type": "code",
   "execution_count": 22,
   "metadata": {},
   "outputs": [],
   "source": [
    "df_train_rota = seleccionar_aleatoriamente(df_train, 1, 137)\n",
    "df_train_rota_control = df_train_rota.copy()\n",
    "df_test_rota = seleccionar_aleatoriamente(df_test, 1, 17) \n",
    "df_test_rota_control = df_test_rota.copy()\n",
    "df_val_rota = seleccionar_aleatoriamente(df_val, 1, 18)\n",
    "df_val_rota_control = df_val_rota.copy()"
   ]
  },
  {
   "cell_type": "markdown",
   "metadata": {},
   "source": [
    ">**Aquí se filtran los dataframes para realizar diferentes rotaciones a la etiqueta 1.**"
   ]
  },
  {
   "cell_type": "code",
   "execution_count": 23,
   "metadata": {},
   "outputs": [],
   "source": [
    "def rotate_image(image_str, angle):\n",
    "    image = np.array(image_str.split(), dtype=np.uint8)\n",
    "    image = image.reshape((48, 48))  # Las imágenes con las que trabajamos son de 48x48 píxeles\n",
    "    rotated_image = rotate(image, angle, reshape=False, mode='nearest')\n",
    "    rotated_image_str = ' '.join(rotated_image.astype(str).flatten())\n",
    "    return rotated_image_str"
   ]
  },
  {
   "cell_type": "markdown",
   "metadata": {},
   "source": [
    ">**Aquí se define la funcion que rotará las imagenes**"
   ]
  },
  {
   "cell_type": "code",
   "execution_count": 24,
   "metadata": {},
   "outputs": [],
   "source": [
    "df_train_rota.loc[:, 'pixels'] = df_train_rota['pixels'].apply(lambda x: rotate_image(x, 15))  # Más de 15 podra deformar demasiado.\n",
    "df_test_rota.loc[:, 'pixels'] = df_test_rota['pixels'].apply(lambda x: rotate_image(x, 15))\n",
    "df_val_rota.loc[:, 'pixels'] = df_val_rota['pixels'].apply(lambda x: rotate_image(x, 15))"
   ]
  },
  {
   "cell_type": "markdown",
   "metadata": {},
   "source": [
    ">**Aquí se llama a la funcion.**"
   ]
  },
  {
   "cell_type": "markdown",
   "metadata": {},
   "source": [
    "## **VISUALIZACIÓN**"
   ]
  },
  {
   "cell_type": "code",
   "execution_count": 25,
   "metadata": {},
   "outputs": [
    {
     "data": {
      "image/png": "[encoded data removed]",
      "text/plain": [
       "<Figure size 1500x500 with 3 Axes>"
      ]
     },
     "metadata": {},
     "output_type": "display_data"
    }
   ],
   "source": [
    "for emotion in [1]:\n",
    "    mostrar_imagenes_emocion(df_train_rota_control, emotion)"
   ]
  },
  {
   "cell_type": "code",
   "execution_count": 26,
   "metadata": {},
   "outputs": [
    {
     "data": {
      "image/png": "[encoded data removed]",
      "text/plain": [
       "<Figure size 1500x500 with 3 Axes>"
      ]
     },
     "metadata": {},
     "output_type": "display_data"
    }
   ],
   "source": [
    "for emotion in [1]:\n",
    "    mostrar_imagenes_emocion(df_train_rota, emotion)"
   ]
  },
  {
   "cell_type": "markdown",
   "metadata": {},
   "source": [
    "## **UNIÓN DE LOS DATASETS ROTADOS CON EL RESTO**"
   ]
  },
  {
   "cell_type": "code",
   "execution_count": 27,
   "metadata": {},
   "outputs": [],
   "source": [
    "df_train = pd.concat([df_train_rota, df_train], ignore_index=True) \n",
    "df_test = pd.concat([df_test_rota, df_test], ignore_index=True)\n",
    "df_val = pd.concat([df_val_rota, df_val], ignore_index=True)"
   ]
  },
  {
   "cell_type": "markdown",
   "metadata": {},
   "source": [
    "## **COMPROBACIÓN**"
   ]
  },
  {
   "cell_type": "code",
   "execution_count": 28,
   "metadata": {},
   "outputs": [
    {
     "name": "stdout",
     "output_type": "stream",
     "text": [
      "El dataset de entenamiento ha quedado así:\n",
      "emotion\n",
      "1    4101\n",
      "3    4101\n",
      "5    4101\n",
      "0    4101\n",
      "2    4101\n",
      "4    4101\n",
      "6    4101\n",
      "Name: count, dtype: int64\n",
      "\n",
      "El dataset de validación ha quedado así:\n",
      "emotion\n",
      "1    514\n",
      "3    513\n",
      "5    513\n",
      "0    513\n",
      "2    513\n",
      "4    513\n",
      "6    513\n",
      "Name: count, dtype: int64\n",
      "\n",
      "El dataset pruebas ha quedado así:\n",
      "emotion\n",
      "3    512\n",
      "5    512\n",
      "0    512\n",
      "2    512\n",
      "4    512\n",
      "6    512\n",
      "1    511\n",
      "Name: count, dtype: int64\n"
     ]
    }
   ],
   "source": [
    "print(\"El dataset de entenamiento ha quedado así:\")\n",
    "print(df_train['emotion'].value_counts())\n",
    "print()\n",
    "print(\"El dataset de validación ha quedado así:\")\n",
    "print(df_val['emotion'].value_counts())\n",
    "print()\n",
    "print(\"El dataset pruebas ha quedado así:\")\n",
    "print(df_test['emotion'].value_counts())"
   ]
  },
  {
   "cell_type": "markdown",
   "metadata": {},
   "source": [
    "## **UNIÓN DE LOS DATASETS DE DISTINTOS USOS Y GUARDADO EN CSV**\n"
   ]
  },
  {
   "cell_type": "code",
   "execution_count": 29,
   "metadata": {},
   "outputs": [],
   "source": [
    "df_UNIDO = pd.concat([df_train, df_test, df_val], ignore_index=True) \n",
    "df_UNIDO.to_csv('datos/AffectNet/AffectNet_blc.csv', index=False)"
   ]
  },
  {
   "cell_type": "code",
   "execution_count": 30,
   "metadata": {},
   "outputs": [
    {
     "name": "stdout",
     "output_type": "stream",
     "text": [
      "<class 'pandas.core.frame.DataFrame'>\n",
      "RangeIndex: 35882 entries, 0 to 35881\n",
      "Data columns (total 3 columns):\n",
      " #   Column   Non-Null Count  Dtype \n",
      "---  ------   --------------  ----- \n",
      " 0   emotion  35882 non-null  int64 \n",
      " 1   pixels   35882 non-null  object\n",
      " 2   Usage    35882 non-null  object\n",
      "dtypes: int64(1), object(2)\n",
      "memory usage: 841.1+ KB\n"
     ]
    }
   ],
   "source": [
    "df_UNIDO.info()"
   ]
  },
  {
   "cell_type": "code",
   "execution_count": 31,
   "metadata": {},
   "outputs": [
    {
     "data": {
      "text/plain": [
       "Usage\n",
       "Training       0.800039\n",
       "PrivateTest    0.100106\n",
       "PublicTest     0.099855\n",
       "Name: proportion, dtype: float64"
      ]
     },
     "execution_count": 31,
     "metadata": {},
     "output_type": "execute_result"
    }
   ],
   "source": [
    "df_UNIDO[\"Usage\"].value_counts(True)"
   ]
  },
  {
   "cell_type": "code",
   "execution_count": 32,
   "metadata": {},
   "outputs": [
    {
     "data": {
      "text/plain": [
       "emotion\n",
       "1    0.142857\n",
       "3    0.142857\n",
       "5    0.142857\n",
       "0    0.142857\n",
       "2    0.142857\n",
       "4    0.142857\n",
       "6    0.142857\n",
       "Name: proportion, dtype: float64"
      ]
     },
     "execution_count": 32,
     "metadata": {},
     "output_type": "execute_result"
    }
   ],
   "source": [
    "df_UNIDO[\"emotion\"].value_counts(True)"
   ]
  }
 ],
 "metadata": {
  "kernelspec": {
   "display_name": "Python 3",
   "language": "python",
   "name": "python3"
  },
  "language_info": {
   "codemirror_mode": {
    "name": "ipython",
    "version": 3
   },
   "file_extension": ".py",
   "mimetype": "text/x-python",
   "name": "python",
   "nbconvert_exporter": "python",
   "pygments_lexer": "ipython3",
   "version": "3.12.3"
  }
 },
 "nbformat": 4,
 "nbformat_minor": 2
}
