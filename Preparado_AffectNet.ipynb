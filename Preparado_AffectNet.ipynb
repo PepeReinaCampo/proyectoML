{
 "cells": [
  {
   "cell_type": "markdown",
   "metadata": {},
   "source": [
    "<img src=\"Imagenes/pablo/th.jpg\" alt=\"Imagen creada con inteligencia artificial y editada con Microsoft Paint\" style=\"border-radius: 15px\">\n",
    "\n",
    "\n",
    "*Imagen creada con inteligencia artificial.*"
   ]
  },
  {
   "cell_type": "markdown",
   "metadata": {},
   "source": [
    "## **INTRODUCCIÓN**\n",
    "\n",
    "El **dataset** **‘fer2013’** se presenta en un archivo **CSV** en el cual no tenemos las **fotografías**, sino que tenemos una columna, ‘**pixels**’, que contiene una cadena de números separados por espacios, siendo estos números los colores (en escala de grises) de las **fotografías**. **A partir** de las **fotografías** del dataset **'AffectNet'** crearemos **7 datasets**, uno por cada **expresión facial**, y al final los uniremos para que tengan un formato similar a **'FER2013'**.\n"
   ]
  },
  {
   "cell_type": "markdown",
   "metadata": {},
   "source": [
    "## **BIBLIOTECAS USADAS:**"
   ]
  },
  {
   "cell_type": "code",
   "execution_count": 15,
   "metadata": {},
   "outputs": [],
   "source": [
    "import os\n",
    "import cv2\n",
    "import pandas as pd\n",
    "import numpy as np \n",
    "import math\n"
   ]
  },
  {
   "cell_type": "markdown",
   "metadata": {},
   "source": [
    "## **CODIGO COLUMNAS 'emotion' Y 'pixels'**"
   ]
  },
  {
   "cell_type": "code",
   "execution_count": 20,
   "metadata": {},
   "outputs": [],
   "source": [
    "ruta_base = \"datos/AffectNet/AffectNet_original/archive/\"\n",
    "def leer_imagenes(carpeta):\n",
    "    lista_imagenes = []\n",
    "    ruta_carpeta = os.path.join(ruta_base, str(carpeta))\n",
    "    for filename in os.listdir(ruta_carpeta):\n",
    "        if filename.lower().endswith((\".jpg\", \".jpeg\", \".png\")):\n",
    "            ruta_imagen = os.path.join(ruta_carpeta, filename)\n",
    "            img = cv2.imread(ruta_imagen, cv2.IMREAD_GRAYSCALE)  \n",
    "            img_resized = cv2.resize(img, (48, 48)) \n",
    "            img_string = ' '.join(map(str, img_resized.flatten()))  \n",
    "            lista_imagenes.append(img_string)\n",
    "    return lista_imagenes\n",
    "\n",
    "df_6= pd.DataFrame(columns=['emotion', 'pixels']) #Iremos cambiado el nombre del dataframe\n",
    "df_6['emotion'] = [6] * len(os.listdir(os.path.join(ruta_base, \"6\"))) #Cambiar el nombre del dataframe, el numero entre corchetes y el que sigue a ruta base.\n",
    "df_6['pixels'] = leer_imagenes(6)#Iremos cambiado el nombre del dataframe y el numero entre parentesis\n"
   ]
  },
  {
   "cell_type": "markdown",
   "metadata": {},
   "source": [
    ">La función **leer_imagenes** procesa imágenes a partir de una carpeta especificada. Cada imagen se carga en color, luego se convierte a escala de grises, se redimensiona a 48x48 píxeles y se convierte en una cadena de píxeles. Estas cadenas se almacenan en una lista que se devuelve como resultado."
   ]
  },
  {
   "cell_type": "markdown",
   "metadata": {},
   "source": [
    "## **CODIGO COLUMNA 'Usage'**"
   ]
  },
  {
   "cell_type": "code",
   "execution_count": 22,
   "metadata": {},
   "outputs": [],
   "source": [
    "total_rows = len(df_6) #Iremos cambiado el nombre del dataframe\n",
    "\n",
    "num_training = int(np.ceil(0.8 * total_rows))  \n",
    "num_public_test = int(np.floor(0.1 * total_rows))  \n",
    "num_private_test = total_rows - num_training - num_public_test\n",
    "\n",
    "while num_training + num_public_test + num_private_test != total_rows:\n",
    "    num_training += 1\n",
    "\n",
    "usage_values = np.array(['Training'] * num_training + ['PublicTest'] * num_public_test + ['PrivateTest'] * num_private_test)\n",
    "\n",
    "\n",
    "np.random.seed(42)  \n",
    "df_6['Usage'] = np.random.choice(usage_values, size=total_rows, replace=False)#Iremos cambiado el nombre del dataframe"
   ]
  },
  {
   "cell_type": "markdown",
   "metadata": {},
   "source": [
    ">Se asignan etiquetas de uso ('Training', 'PublicTest', 'PrivateTest') a las filas del DataFrame df_6 basándose en porcentajes predefinidos (80%, 10%, 10%). Se utiliza una semilla aleatoria para garantizar la aleatoriedad en la asignación de etiquetas."
   ]
  },
  {
   "cell_type": "markdown",
   "metadata": {},
   "source": [
    "## **COMPROBACION**"
   ]
  },
  {
   "cell_type": "code",
   "execution_count": 13,
   "metadata": {},
   "outputs": [
    {
     "name": "stdout",
     "output_type": "stream",
     "text": [
      "El DataFrame tiene 3091 filas.\n"
     ]
    }
   ],
   "source": [
    "\"\"\"num_filas = df_4.shape[0] #Iremos cambiado el nombre del dataframe\n",
    "print(f\"El DataFrame tiene {num_filas} filas.\")\"\"\""
   ]
  },
  {
   "cell_type": "markdown",
   "metadata": {},
   "source": [
    ">Vemos que hay tantas filas como fotografias hay en la carpeta correspondiente."
   ]
  },
  {
   "cell_type": "code",
   "execution_count": 11,
   "metadata": {},
   "outputs": [
    {
     "data": {
      "text/plain": [
       "Usage\n",
       "Training       0.800065\n",
       "PublicTest     0.099968\n",
       "PrivateTest    0.099968\n",
       "Name: proportion, dtype: float64"
      ]
     },
     "execution_count": 11,
     "metadata": {},
     "output_type": "execute_result"
    }
   ],
   "source": [
    "\"\"\"df_4['Usage'].value_counts(True)\"\"\""
   ]
  },
  {
   "cell_type": "markdown",
   "metadata": {},
   "source": [
    "> Queda muy balanceado."
   ]
  },
  {
   "cell_type": "code",
   "execution_count": 23,
   "metadata": {},
   "outputs": [
    {
     "data": {
      "text/plain": [
       "'# Obtener el tamaño en píxeles de las imágenes\\ndf_4[\\'num_pixels\\'] = df_4[\\'pixels\\'].apply(lambda x: len(x.split()))\\n\\n# Calcular estadísticas sobre el tamaño en píxeles\\nmin_pixels = df_4[\\'num_pixels\\'].min()\\nmax_pixels = df_4[\\'num_pixels\\'].max()\\n\\n\\nprint(f\"Tamaño mínimo de imagen en píxeles: {min_pixels}\")\\nprint(f\"Tamaño máximo de imagen en píxeles: {max_pixels}\")\\n\\nprint(f\"Por lo que las imagenes son de {int(math.sqrt(max_pixels))}x{int(math.sqrt(max_pixels))} \")'"
      ]
     },
     "execution_count": 23,
     "metadata": {},
     "output_type": "execute_result"
    }
   ],
   "source": [
    "\"\"\"# Obtener el tamaño en píxeles de las imágenes\n",
    "df_4['num_pixels'] = df_4['pixels'].apply(lambda x: len(x.split()))\n",
    "\n",
    "# Calcular estadísticas sobre el tamaño en píxeles\n",
    "min_pixels = df_4['num_pixels'].min()\n",
    "max_pixels = df_4['num_pixels'].max()\n",
    "\n",
    "\n",
    "print(f\"Tamaño mínimo de imagen en píxeles: {min_pixels}\")\n",
    "print(f\"Tamaño máximo de imagen en píxeles: {max_pixels}\")\n",
    "\n",
    "print(f\"Por lo que las imagenes son de {int(math.sqrt(max_pixels))}x{int(math.sqrt(max_pixels))} \")\"\"\""
   ]
  },
  {
   "cell_type": "code",
   "execution_count": 12,
   "metadata": {},
   "outputs": [
    {
     "name": "stdout",
     "output_type": "stream",
     "text": [
      "Las imágenes del dataset 'df_1' son en escala de grises.\n"
     ]
    }
   ],
   "source": [
    "\"\"\"ejemplo_pixels = df_4['pixels'].iloc[0] #Sabemos que todas las filas, tienen las misma caracteristicas, asi que cogemos una cualquiera.\n",
    "\n",
    "# Dividimos la cadena de píxeles en valores individuales y convertimos a enteros\n",
    "valores_pixeles = list(map(int, ejemplo_pixels.split()))\n",
    "\n",
    "# Verificamos si todos los valores están dentro del rango de 0 a 255\n",
    "todos_en_rango = all(0 <= pixel <= 255 for pixel in valores_pixeles)\n",
    "\n",
    "if todos_en_rango:\n",
    "    print(\"Las imágenes del dataset 'df_4' son en escala de grises.\")\n",
    "else:\n",
    "    print(\"Las imágenes del dataset 'df_4' son a color (o tienen valores fuera del rango 0-255).\")\"\"\""
   ]
  },
  {
   "cell_type": "markdown",
   "metadata": {},
   "source": [
    ">Puedes descomentar estas comprobaciones y verificar que está saliendo bien."
   ]
  },
  {
   "cell_type": "markdown",
   "metadata": {},
   "source": [
    "## **GUARDADO DEL DATAFRAME**"
   ]
  },
  {
   "cell_type": "code",
   "execution_count": 24,
   "metadata": {},
   "outputs": [],
   "source": [
    "df_6.to_csv('datos/AffectNet/expresiones individuales/df_6.csv', index=False) #Iremos cambiado el nombre del dataframe y del bombre con el que lo guardamos."
   ]
  },
  {
   "cell_type": "code",
   "execution_count": 25,
   "metadata": {},
   "outputs": [
    {
     "data": {
      "text/html": [
       "<div>\n",
       "<style scoped>\n",
       "    .dataframe tbody tr th:only-of-type {\n",
       "        vertical-align: middle;\n",
       "    }\n",
       "\n",
       "    .dataframe tbody tr th {\n",
       "        vertical-align: top;\n",
       "    }\n",
       "\n",
       "    .dataframe thead th {\n",
       "        text-align: right;\n",
       "    }\n",
       "</style>\n",
       "<table border=\"1\" class=\"dataframe\">\n",
       "  <thead>\n",
       "    <tr style=\"text-align: right;\">\n",
       "      <th></th>\n",
       "      <th>emotion</th>\n",
       "      <th>pixels</th>\n",
       "      <th>Usage</th>\n",
       "    </tr>\n",
       "  </thead>\n",
       "  <tbody>\n",
       "    <tr>\n",
       "      <th>0</th>\n",
       "      <td>6</td>\n",
       "      <td>89 91 88 85 84 83 79 78 77 77 72 69 57 62 47 3...</td>\n",
       "      <td>PublicTest</td>\n",
       "    </tr>\n",
       "    <tr>\n",
       "      <th>1</th>\n",
       "      <td>6</td>\n",
       "      <td>184 184 180 184 184 186 187 181 171 168 169 16...</td>\n",
       "      <td>Training</td>\n",
       "    </tr>\n",
       "    <tr>\n",
       "      <th>2</th>\n",
       "      <td>6</td>\n",
       "      <td>10 9 13 20 13 39 67 70 66 63 45 83 81 70 96 93...</td>\n",
       "      <td>PrivateTest</td>\n",
       "    </tr>\n",
       "    <tr>\n",
       "      <th>3</th>\n",
       "      <td>6</td>\n",
       "      <td>199 198 199 197 192 180 165 158 157 156 158 15...</td>\n",
       "      <td>Training</td>\n",
       "    </tr>\n",
       "    <tr>\n",
       "      <th>4</th>\n",
       "      <td>6</td>\n",
       "      <td>157 148 131 121 108 90 96 77 55 59 83 93 78 53...</td>\n",
       "      <td>Training</td>\n",
       "    </tr>\n",
       "  </tbody>\n",
       "</table>\n",
       "</div>"
      ],
      "text/plain": [
       "   emotion                                             pixels        Usage\n",
       "0        6  89 91 88 85 84 83 79 78 77 77 72 69 57 62 47 3...   PublicTest\n",
       "1        6  184 184 180 184 184 186 187 181 171 168 169 16...     Training\n",
       "2        6  10 9 13 20 13 39 67 70 66 63 45 83 81 70 96 93...  PrivateTest\n",
       "3        6  199 198 199 197 192 180 165 158 157 156 158 15...     Training\n",
       "4        6  157 148 131 121 108 90 96 77 55 59 83 93 78 53...     Training"
      ]
     },
     "execution_count": 25,
     "metadata": {},
     "output_type": "execute_result"
    }
   ],
   "source": [
    "df_6.head(5)"
   ]
  },
  {
   "cell_type": "markdown",
   "metadata": {},
   "source": [
    "## **CONCATENADO Y GUARDADO DE LOS DATASETS**"
   ]
  },
  {
   "cell_type": "code",
   "execution_count": 28,
   "metadata": {},
   "outputs": [],
   "source": [
    "\"\"\"df_0 = pd.read_csv('datos/AffectNet/expresiones individuales/df_0.csv')\n",
    "df_1 = pd.read_csv('datos/AffectNet/expresiones individuales/df_1.csv')\n",
    "df_2 = pd.read_csv('datos/AffectNet/expresiones individuales/df_2.csv')\n",
    "df_3 = pd.read_csv('datos/AffectNet/expresiones individuales/df_3.csv')\n",
    "df_4 = pd.read_csv('datos/AffectNet/expresiones individuales/df_4.csv')\n",
    "df_5 = pd.read_csv('datos/AffectNet/expresiones individuales/df_5.csv')\n",
    "df_6 = pd.read_csv('datos/AffectNet/expresiones individuales/df_6.csv') \n",
    "\n",
    "df_unido = pd.concat([df_0,df_1, df_2, df_3, df_4, df_5, df_6], ignore_index=True) \n",
    "\n",
    "df_unido.to_csv('datos/AffectNet/df_AffectNet_formato.csv', index=False)\"\"\""
   ]
  }
 ],
 "metadata": {
  "kernelspec": {
   "display_name": "Python 3",
   "language": "python",
   "name": "python3"
  },
  "language_info": {
   "codemirror_mode": {
    "name": "ipython",
    "version": 3
   },
   "file_extension": ".py",
   "mimetype": "text/x-python",
   "name": "python",
   "nbconvert_exporter": "python",
   "pygments_lexer": "ipython3",
   "version": "3.12.3"
  }
 },
 "nbformat": 4,
 "nbformat_minor": 2
}
