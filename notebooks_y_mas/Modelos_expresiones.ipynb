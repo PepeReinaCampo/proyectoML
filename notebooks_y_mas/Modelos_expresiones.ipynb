{
 "cells": [
  {
   "cell_type": "markdown",
   "metadata": {},
   "source": [
    "<img src=\"Imagenes/entreno.jpeg\" alt=\"Imagen creada con inteligencia artificial y editada con Microsoft Paint\" style=\"border-radius: 15px; width: 80%;\">\n",
    "\n",
    "*Imagen creada con inteligencia artificial*"
   ]
  },
  {
   "cell_type": "markdown",
   "metadata": {},
   "source": [
    "## **BIBLIOTECAS USADAS:**"
   ]
  },
  {
   "cell_type": "code",
   "execution_count": 1,
   "metadata": {},
   "outputs": [],
   "source": [
    "import pandas as pd\n",
    "import numpy as np\n",
    "from tensorflow.keras.models import Sequential\n",
    "from tensorflow.keras.layers import Conv2D, MaxPooling2D, Flatten, Dense, Dropout, BatchNormalization\n",
    "from tensorflow.keras.optimizers import Adam\n",
    "from tensorflow.keras.preprocessing.image import ImageDataGenerator\n",
    "from tensorflow.keras.callbacks import EarlyStopping, LearningRateScheduler, ReduceLROnPlateau\n",
    "import math \n",
    "from sklearn.metrics import classification_report\n",
    "from tensorflow.keras.models import Sequential\n",
    "from tensorflow.keras.regularizers import l2\n",
    "from keras.models import save_model\n",
    "from keras.models import load_model\n",
    "import os \n",
    "import matplotlib.pyplot as plt\n",
    "from tensorflow.keras.callbacks import ModelCheckpoint"
   ]
  },
  {
   "cell_type": "markdown",
   "metadata": {},
   "source": [
    "## **CARGADO DE DATOS:**"
   ]
  },
  {
   "cell_type": "code",
   "execution_count": 2,
   "metadata": {},
   "outputs": [],
   "source": [
    "df = pd.read_csv('datos/fer2013/fer2013_blc.csv')"
   ]
  },
  {
   "cell_type": "markdown",
   "metadata": {},
   "source": [
    ">**Cargaremos el dataset balanceado, el cual se balanceó con técnicas de data augmentation.**"
   ]
  },
  {
   "cell_type": "markdown",
   "metadata": {},
   "source": [
    "## **DIVISIÓN EN ENTRENAMIENTO, VALIDACIÓN Y PRUEBAS:**"
   ]
  },
  {
   "cell_type": "code",
   "execution_count": 3,
   "metadata": {},
   "outputs": [],
   "source": [
    "train_df = df[df['Usage'] == 'Training']\n",
    "val_df = df[df['Usage'] == 'PrivateTest']\n",
    "test_df = df[df['Usage'] == 'PublicTest']"
   ]
  },
  {
   "cell_type": "markdown",
   "metadata": {},
   "source": [
    ">**No usaremos \"train_test_split\" de \"sklearn\", sino que utilizaremos la columna \"Usage\", la cual indica uno de los tres usos para cada línea del dataframe.**"
   ]
  },
  {
   "cell_type": "markdown",
   "metadata": {},
   "source": [
    "## **PREPARACIÓN DE LOS DATOS:**"
   ]
  },
  {
   "cell_type": "code",
   "execution_count": 4,
   "metadata": {},
   "outputs": [],
   "source": [
    "def string_to_image_array(string):\n",
    "    pixels = np.array(string.split(), dtype=np.float32)\n",
    "    return pixels.reshape((48, 48, 1))  \n",
    "  \n",
    "def prepare_data(df):\n",
    "    X_pixels = np.array([string_to_image_array(pixels) for pixels in df['pixels']])\n",
    "    X_pixels = X_pixels.astype('float32') / 255.0\n",
    "    y = df['emotion']\n",
    "    return X_pixels, y  \n",
    "\n",
    "#Llamadas: \n",
    "\n",
    "X_train, y_train = prepare_data(train_df)\n",
    "X_val, y_val = prepare_data(val_df)\n",
    "X_test, y_test = prepare_data(test_df)"
   ]
  },
  {
   "cell_type": "markdown",
   "metadata": {},
   "source": [
    ">**Con la función \"string_to_image_array\" se convierte una cadena de números separados por espacios (como en nuestro dataset) en un array unidimensional de 48x48.**\n",
    ">  \n",
    ">**Con la función \"prepare_data\", aplicamos la función anterior a la columna \"pixels\" de los dataframes y normalizamos los valores (dividiéndolos entre 255, que es el valor más alto del rango de color en este caso), para ello, desde esta, llamamos a la fincion anterior**\n",
    ">  \n",
    ">**Luego, con las llamadas, aplicamos estas funciones a cada una de las 3 partes en las que hemos dividido el dataframe en la celda anterior.**"
   ]
  },
  {
   "cell_type": "markdown",
   "metadata": {},
   "source": [
    "## **AUMENTACIÓN DE DATOS PARA EL CONJUNTO DE PRUEBAS:**"
   ]
  },
  {
   "cell_type": "code",
   "execution_count": 5,
   "metadata": {},
   "outputs": [],
   "source": [
    "datagen = ImageDataGenerator(rotation_range=10,width_shift_range=0.1,height_shift_range=0.1,zoom_range=0.1,horizontal_flip=True)\n",
    "datagen.fit(X_train)\n"
   ]
  },
  {
   "cell_type": "markdown",
   "metadata": {},
   "source": [
    "> **Con esto aplicamos nuevos cambios (además de los ya aplicados) para que el dataset de entrenamiento tenga mayor cantidad de fotografias.**\n",
    ">  \n",
    ">**En un principio, se sospechó que usar “horizontal flip” pudiera traer consigo algo de sobreajuste, dado que fue el primer método de aumentación de datos usado en ambos datasets. En los modelos que se han ido probando, se observó que en algunos no aportaba nada; en otros, se observó que provocaba algo de sobreajuste. En este modelo, aumentó poco más de un punto en precisión, sin observarse cambios en la pérdida ni sobreajuste, por lo que se decidió también usar \"horizontal flip\" en el aumento de datos “datagen”.**  \n",
    "\n"
   ]
  },
  {
   "cell_type": "markdown",
   "metadata": {},
   "source": [
    "## **DEFINICION DEL MODELO CNN**"
   ]
  },
  {
   "cell_type": "code",
   "execution_count": 6,
   "metadata": {},
   "outputs": [
    {
     "name": "stderr",
     "output_type": "stream",
     "text": [
      "C:\\Users\\pepea\\AppData\\Local\\Packages\\PythonSoftwareFoundation.Python.3.12_qbz5n2kfra8p0\\LocalCache\\local-packages\\Python312\\site-packages\\keras\\src\\layers\\convolutional\\base_conv.py:107: UserWarning: Do not pass an `input_shape`/`input_dim` argument to a layer. When using Sequential models, prefer using an `Input(shape)` object as the first layer in the model instead.\n",
      "  super().__init__(activity_regularizer=activity_regularizer, **kwargs)\n"
     ]
    }
   ],
   "source": [
    "model_cnn = Sequential([\n",
    "    Conv2D(64, (3, 3), activation='relu', input_shape=(48, 48, 1)),\n",
    "    BatchNormalization(),\n",
    "    MaxPooling2D(pool_size=(2, 2)),\n",
    "\n",
    "    Conv2D(128, (3, 3), activation='relu'),\n",
    "    BatchNormalization(),\n",
    "    MaxPooling2D(pool_size=(2, 2)),\n",
    "\n",
    "    Conv2D(256, (3, 3), activation='relu'),\n",
    "    BatchNormalization(),\n",
    "    MaxPooling2D(pool_size=(2, 2)),\n",
    "\n",
    "    Conv2D(512, (3, 3), activation='relu'),\n",
    "    BatchNormalization(),\n",
    "    MaxPooling2D(pool_size=(2, 2)),\n",
    "\n",
    "    Flatten(),\n",
    "    Dense(256, activation='relu', kernel_regularizer=l2(0.00038558)),\n",
    "    Dropout(0.1),\n",
    "\n",
    "    Dense(128, activation='relu', kernel_regularizer=l2(0.00031289)),\n",
    "    Dropout(0.25),\n",
    "\n",
    "    Dense(7, activation='softmax')\n",
    "])"
   ]
  },
  {
   "cell_type": "markdown",
   "metadata": {},
   "source": [
    "> **Este modelo es una red neuronal convolucional diseñada para clasificar imágenes en 7 categorías. Utiliza varias capas que identifican características importantes en las imágenes, como bordes y texturas. Luego, estas características se combinan y procesan en capas densas para hacer la clasificación final. El modelo también incluye técnicas para mejorar el rendimiento y evitar el sobreajuste, como la normalización, la regularización y la desactivación temporal de algunas conexiones.**  \n",
    ">  \n",
    ">**Los hiperparámetros de l2 y dropout se han elegido gracias a pruebas con un modelo usando una herramienta de 'Hyperparameter Tuner', específicamente 'Hyperband' de 'keras', que busca los valores óptimos para los hiperparámetros. Aunque este proceso no es eficiente en cuanto al tiempo —en más de 20 horas de entrenamiento continuo no había terminado ni la mitad del proceso— fue suficiente para identificar valores adecuados para estos hiperparámetros.**  \n",
    ">  \n",
    ">>**\"CNN\" significa \"red neuronal convolucional\".**"
   ]
  },
  {
   "cell_type": "markdown",
   "metadata": {},
   "source": [
    "## **COMPILACIÓN DEL MODELO:**"
   ]
  },
  {
   "cell_type": "code",
   "execution_count": 7,
   "metadata": {},
   "outputs": [],
   "source": [
    "model_cnn.compile(loss='sparse_categorical_crossentropy',  \n",
    "              optimizer=Adam(learning_rate=0.000012),  \n",
    "              metrics=['accuracy'])  "
   ]
  },
  {
   "cell_type": "markdown",
   "metadata": {},
   "source": [
    "> **En Adam, el learning rate por defecto es 0.001. Hemos especificado este valor porque, tras experimentar con diversos modelos, hemos visto que funciona bien.**\n",
    "**La tasa de aprendizaje controla la magnitud de los ajustes que se realizan a los pesos del modelo durante el proceso de entrenamiento.**\n",
    ">>una tasa de aprendizaje baja proporciona actualizaciones más precisas y estables de los pesos del modelo, mejorando la precisión y reduciendo el riesgo de sobreajuste al permitir una convergencia más suave hacia el mínimo del error. como desventaja tenemos que requiere de mas tiempo de mayor capacidad computacional (hablando en plata, \"mejor ordenador\")\n",
    ">  \n",
    ">**'sparse_categorical_crossentropy' se utiliza típicamente en problemas de clasificación donde las etiquetas son números enteros, es decir, cuando solo puede darse una clase y se debe elegir una opción, como en nuestro caso, donde se elige entre una de las 7 expresiones.**\n",
    ">  \n",
    ">**La métrica es accuracy porque es la que queremos mejorar.**  \n",
    ">  \n"
   ]
  },
  {
   "cell_type": "markdown",
   "metadata": {},
   "source": [
    "## **RESUMEN DEL MODELO**"
   ]
  },
  {
   "cell_type": "code",
   "execution_count": 8,
   "metadata": {},
   "outputs": [
    {
     "data": {
      "text/html": [
       "<pre style=\"white-space:pre;overflow-x:auto;line-height:normal;font-family:Menlo,'DejaVu Sans Mono',consolas,'Courier New',monospace\"><span style=\"font-weight: bold\">Model: \"sequential\"</span>\n",
       "</pre>\n"
      ],
      "text/plain": [
       "\u001b[1mModel: \"sequential\"\u001b[0m\n"
      ]
     },
     "metadata": {},
     "output_type": "display_data"
    },
    {
     "data": {
      "text/html": [
       "<pre style=\"white-space:pre;overflow-x:auto;line-height:normal;font-family:Menlo,'DejaVu Sans Mono',consolas,'Courier New',monospace\">┏━━━━━━━━━━━━━━━━━━━━━━━━━━━━━━━━━┳━━━━━━━━━━━━━━━━━━━━━━━━┳━━━━━━━━━━━━━━━┓\n",
       "┃<span style=\"font-weight: bold\"> Layer (type)                    </span>┃<span style=\"font-weight: bold\"> Output Shape           </span>┃<span style=\"font-weight: bold\">       Param # </span>┃\n",
       "┡━━━━━━━━━━━━━━━━━━━━━━━━━━━━━━━━━╇━━━━━━━━━━━━━━━━━━━━━━━━╇━━━━━━━━━━━━━━━┩\n",
       "│ conv2d (<span style=\"color: #0087ff; text-decoration-color: #0087ff\">Conv2D</span>)                 │ (<span style=\"color: #00d7ff; text-decoration-color: #00d7ff\">None</span>, <span style=\"color: #00af00; text-decoration-color: #00af00\">46</span>, <span style=\"color: #00af00; text-decoration-color: #00af00\">46</span>, <span style=\"color: #00af00; text-decoration-color: #00af00\">64</span>)     │           <span style=\"color: #00af00; text-decoration-color: #00af00\">640</span> │\n",
       "├─────────────────────────────────┼────────────────────────┼───────────────┤\n",
       "│ batch_normalization             │ (<span style=\"color: #00d7ff; text-decoration-color: #00d7ff\">None</span>, <span style=\"color: #00af00; text-decoration-color: #00af00\">46</span>, <span style=\"color: #00af00; text-decoration-color: #00af00\">46</span>, <span style=\"color: #00af00; text-decoration-color: #00af00\">64</span>)     │           <span style=\"color: #00af00; text-decoration-color: #00af00\">256</span> │\n",
       "│ (<span style=\"color: #0087ff; text-decoration-color: #0087ff\">BatchNormalization</span>)            │                        │               │\n",
       "├─────────────────────────────────┼────────────────────────┼───────────────┤\n",
       "│ max_pooling2d (<span style=\"color: #0087ff; text-decoration-color: #0087ff\">MaxPooling2D</span>)    │ (<span style=\"color: #00d7ff; text-decoration-color: #00d7ff\">None</span>, <span style=\"color: #00af00; text-decoration-color: #00af00\">23</span>, <span style=\"color: #00af00; text-decoration-color: #00af00\">23</span>, <span style=\"color: #00af00; text-decoration-color: #00af00\">64</span>)     │             <span style=\"color: #00af00; text-decoration-color: #00af00\">0</span> │\n",
       "├─────────────────────────────────┼────────────────────────┼───────────────┤\n",
       "│ conv2d_1 (<span style=\"color: #0087ff; text-decoration-color: #0087ff\">Conv2D</span>)               │ (<span style=\"color: #00d7ff; text-decoration-color: #00d7ff\">None</span>, <span style=\"color: #00af00; text-decoration-color: #00af00\">21</span>, <span style=\"color: #00af00; text-decoration-color: #00af00\">21</span>, <span style=\"color: #00af00; text-decoration-color: #00af00\">128</span>)    │        <span style=\"color: #00af00; text-decoration-color: #00af00\">73,856</span> │\n",
       "├─────────────────────────────────┼────────────────────────┼───────────────┤\n",
       "│ batch_normalization_1           │ (<span style=\"color: #00d7ff; text-decoration-color: #00d7ff\">None</span>, <span style=\"color: #00af00; text-decoration-color: #00af00\">21</span>, <span style=\"color: #00af00; text-decoration-color: #00af00\">21</span>, <span style=\"color: #00af00; text-decoration-color: #00af00\">128</span>)    │           <span style=\"color: #00af00; text-decoration-color: #00af00\">512</span> │\n",
       "│ (<span style=\"color: #0087ff; text-decoration-color: #0087ff\">BatchNormalization</span>)            │                        │               │\n",
       "├─────────────────────────────────┼────────────────────────┼───────────────┤\n",
       "│ max_pooling2d_1 (<span style=\"color: #0087ff; text-decoration-color: #0087ff\">MaxPooling2D</span>)  │ (<span style=\"color: #00d7ff; text-decoration-color: #00d7ff\">None</span>, <span style=\"color: #00af00; text-decoration-color: #00af00\">10</span>, <span style=\"color: #00af00; text-decoration-color: #00af00\">10</span>, <span style=\"color: #00af00; text-decoration-color: #00af00\">128</span>)    │             <span style=\"color: #00af00; text-decoration-color: #00af00\">0</span> │\n",
       "├─────────────────────────────────┼────────────────────────┼───────────────┤\n",
       "│ conv2d_2 (<span style=\"color: #0087ff; text-decoration-color: #0087ff\">Conv2D</span>)               │ (<span style=\"color: #00d7ff; text-decoration-color: #00d7ff\">None</span>, <span style=\"color: #00af00; text-decoration-color: #00af00\">8</span>, <span style=\"color: #00af00; text-decoration-color: #00af00\">8</span>, <span style=\"color: #00af00; text-decoration-color: #00af00\">256</span>)      │       <span style=\"color: #00af00; text-decoration-color: #00af00\">295,168</span> │\n",
       "├─────────────────────────────────┼────────────────────────┼───────────────┤\n",
       "│ batch_normalization_2           │ (<span style=\"color: #00d7ff; text-decoration-color: #00d7ff\">None</span>, <span style=\"color: #00af00; text-decoration-color: #00af00\">8</span>, <span style=\"color: #00af00; text-decoration-color: #00af00\">8</span>, <span style=\"color: #00af00; text-decoration-color: #00af00\">256</span>)      │         <span style=\"color: #00af00; text-decoration-color: #00af00\">1,024</span> │\n",
       "│ (<span style=\"color: #0087ff; text-decoration-color: #0087ff\">BatchNormalization</span>)            │                        │               │\n",
       "├─────────────────────────────────┼────────────────────────┼───────────────┤\n",
       "│ max_pooling2d_2 (<span style=\"color: #0087ff; text-decoration-color: #0087ff\">MaxPooling2D</span>)  │ (<span style=\"color: #00d7ff; text-decoration-color: #00d7ff\">None</span>, <span style=\"color: #00af00; text-decoration-color: #00af00\">4</span>, <span style=\"color: #00af00; text-decoration-color: #00af00\">4</span>, <span style=\"color: #00af00; text-decoration-color: #00af00\">256</span>)      │             <span style=\"color: #00af00; text-decoration-color: #00af00\">0</span> │\n",
       "├─────────────────────────────────┼────────────────────────┼───────────────┤\n",
       "│ conv2d_3 (<span style=\"color: #0087ff; text-decoration-color: #0087ff\">Conv2D</span>)               │ (<span style=\"color: #00d7ff; text-decoration-color: #00d7ff\">None</span>, <span style=\"color: #00af00; text-decoration-color: #00af00\">2</span>, <span style=\"color: #00af00; text-decoration-color: #00af00\">2</span>, <span style=\"color: #00af00; text-decoration-color: #00af00\">512</span>)      │     <span style=\"color: #00af00; text-decoration-color: #00af00\">1,180,160</span> │\n",
       "├─────────────────────────────────┼────────────────────────┼───────────────┤\n",
       "│ batch_normalization_3           │ (<span style=\"color: #00d7ff; text-decoration-color: #00d7ff\">None</span>, <span style=\"color: #00af00; text-decoration-color: #00af00\">2</span>, <span style=\"color: #00af00; text-decoration-color: #00af00\">2</span>, <span style=\"color: #00af00; text-decoration-color: #00af00\">512</span>)      │         <span style=\"color: #00af00; text-decoration-color: #00af00\">2,048</span> │\n",
       "│ (<span style=\"color: #0087ff; text-decoration-color: #0087ff\">BatchNormalization</span>)            │                        │               │\n",
       "├─────────────────────────────────┼────────────────────────┼───────────────┤\n",
       "│ max_pooling2d_3 (<span style=\"color: #0087ff; text-decoration-color: #0087ff\">MaxPooling2D</span>)  │ (<span style=\"color: #00d7ff; text-decoration-color: #00d7ff\">None</span>, <span style=\"color: #00af00; text-decoration-color: #00af00\">1</span>, <span style=\"color: #00af00; text-decoration-color: #00af00\">1</span>, <span style=\"color: #00af00; text-decoration-color: #00af00\">512</span>)      │             <span style=\"color: #00af00; text-decoration-color: #00af00\">0</span> │\n",
       "├─────────────────────────────────┼────────────────────────┼───────────────┤\n",
       "│ flatten (<span style=\"color: #0087ff; text-decoration-color: #0087ff\">Flatten</span>)               │ (<span style=\"color: #00d7ff; text-decoration-color: #00d7ff\">None</span>, <span style=\"color: #00af00; text-decoration-color: #00af00\">512</span>)            │             <span style=\"color: #00af00; text-decoration-color: #00af00\">0</span> │\n",
       "├─────────────────────────────────┼────────────────────────┼───────────────┤\n",
       "│ dense (<span style=\"color: #0087ff; text-decoration-color: #0087ff\">Dense</span>)                   │ (<span style=\"color: #00d7ff; text-decoration-color: #00d7ff\">None</span>, <span style=\"color: #00af00; text-decoration-color: #00af00\">256</span>)            │       <span style=\"color: #00af00; text-decoration-color: #00af00\">131,328</span> │\n",
       "├─────────────────────────────────┼────────────────────────┼───────────────┤\n",
       "│ dropout (<span style=\"color: #0087ff; text-decoration-color: #0087ff\">Dropout</span>)               │ (<span style=\"color: #00d7ff; text-decoration-color: #00d7ff\">None</span>, <span style=\"color: #00af00; text-decoration-color: #00af00\">256</span>)            │             <span style=\"color: #00af00; text-decoration-color: #00af00\">0</span> │\n",
       "├─────────────────────────────────┼────────────────────────┼───────────────┤\n",
       "│ dense_1 (<span style=\"color: #0087ff; text-decoration-color: #0087ff\">Dense</span>)                 │ (<span style=\"color: #00d7ff; text-decoration-color: #00d7ff\">None</span>, <span style=\"color: #00af00; text-decoration-color: #00af00\">128</span>)            │        <span style=\"color: #00af00; text-decoration-color: #00af00\">32,896</span> │\n",
       "├─────────────────────────────────┼────────────────────────┼───────────────┤\n",
       "│ dropout_1 (<span style=\"color: #0087ff; text-decoration-color: #0087ff\">Dropout</span>)             │ (<span style=\"color: #00d7ff; text-decoration-color: #00d7ff\">None</span>, <span style=\"color: #00af00; text-decoration-color: #00af00\">128</span>)            │             <span style=\"color: #00af00; text-decoration-color: #00af00\">0</span> │\n",
       "├─────────────────────────────────┼────────────────────────┼───────────────┤\n",
       "│ dense_2 (<span style=\"color: #0087ff; text-decoration-color: #0087ff\">Dense</span>)                 │ (<span style=\"color: #00d7ff; text-decoration-color: #00d7ff\">None</span>, <span style=\"color: #00af00; text-decoration-color: #00af00\">7</span>)              │           <span style=\"color: #00af00; text-decoration-color: #00af00\">903</span> │\n",
       "└─────────────────────────────────┴────────────────────────┴───────────────┘\n",
       "</pre>\n"
      ],
      "text/plain": [
       "┏━━━━━━━━━━━━━━━━━━━━━━━━━━━━━━━━━┳━━━━━━━━━━━━━━━━━━━━━━━━┳━━━━━━━━━━━━━━━┓\n",
       "┃\u001b[1m \u001b[0m\u001b[1mLayer (type)                   \u001b[0m\u001b[1m \u001b[0m┃\u001b[1m \u001b[0m\u001b[1mOutput Shape          \u001b[0m\u001b[1m \u001b[0m┃\u001b[1m \u001b[0m\u001b[1m      Param #\u001b[0m\u001b[1m \u001b[0m┃\n",
       "┡━━━━━━━━━━━━━━━━━━━━━━━━━━━━━━━━━╇━━━━━━━━━━━━━━━━━━━━━━━━╇━━━━━━━━━━━━━━━┩\n",
       "│ conv2d (\u001b[38;5;33mConv2D\u001b[0m)                 │ (\u001b[38;5;45mNone\u001b[0m, \u001b[38;5;34m46\u001b[0m, \u001b[38;5;34m46\u001b[0m, \u001b[38;5;34m64\u001b[0m)     │           \u001b[38;5;34m640\u001b[0m │\n",
       "├─────────────────────────────────┼────────────────────────┼───────────────┤\n",
       "│ batch_normalization             │ (\u001b[38;5;45mNone\u001b[0m, \u001b[38;5;34m46\u001b[0m, \u001b[38;5;34m46\u001b[0m, \u001b[38;5;34m64\u001b[0m)     │           \u001b[38;5;34m256\u001b[0m │\n",
       "│ (\u001b[38;5;33mBatchNormalization\u001b[0m)            │                        │               │\n",
       "├─────────────────────────────────┼────────────────────────┼───────────────┤\n",
       "│ max_pooling2d (\u001b[38;5;33mMaxPooling2D\u001b[0m)    │ (\u001b[38;5;45mNone\u001b[0m, \u001b[38;5;34m23\u001b[0m, \u001b[38;5;34m23\u001b[0m, \u001b[38;5;34m64\u001b[0m)     │             \u001b[38;5;34m0\u001b[0m │\n",
       "├─────────────────────────────────┼────────────────────────┼───────────────┤\n",
       "│ conv2d_1 (\u001b[38;5;33mConv2D\u001b[0m)               │ (\u001b[38;5;45mNone\u001b[0m, \u001b[38;5;34m21\u001b[0m, \u001b[38;5;34m21\u001b[0m, \u001b[38;5;34m128\u001b[0m)    │        \u001b[38;5;34m73,856\u001b[0m │\n",
       "├─────────────────────────────────┼────────────────────────┼───────────────┤\n",
       "│ batch_normalization_1           │ (\u001b[38;5;45mNone\u001b[0m, \u001b[38;5;34m21\u001b[0m, \u001b[38;5;34m21\u001b[0m, \u001b[38;5;34m128\u001b[0m)    │           \u001b[38;5;34m512\u001b[0m │\n",
       "│ (\u001b[38;5;33mBatchNormalization\u001b[0m)            │                        │               │\n",
       "├─────────────────────────────────┼────────────────────────┼───────────────┤\n",
       "│ max_pooling2d_1 (\u001b[38;5;33mMaxPooling2D\u001b[0m)  │ (\u001b[38;5;45mNone\u001b[0m, \u001b[38;5;34m10\u001b[0m, \u001b[38;5;34m10\u001b[0m, \u001b[38;5;34m128\u001b[0m)    │             \u001b[38;5;34m0\u001b[0m │\n",
       "├─────────────────────────────────┼────────────────────────┼───────────────┤\n",
       "│ conv2d_2 (\u001b[38;5;33mConv2D\u001b[0m)               │ (\u001b[38;5;45mNone\u001b[0m, \u001b[38;5;34m8\u001b[0m, \u001b[38;5;34m8\u001b[0m, \u001b[38;5;34m256\u001b[0m)      │       \u001b[38;5;34m295,168\u001b[0m │\n",
       "├─────────────────────────────────┼────────────────────────┼───────────────┤\n",
       "│ batch_normalization_2           │ (\u001b[38;5;45mNone\u001b[0m, \u001b[38;5;34m8\u001b[0m, \u001b[38;5;34m8\u001b[0m, \u001b[38;5;34m256\u001b[0m)      │         \u001b[38;5;34m1,024\u001b[0m │\n",
       "│ (\u001b[38;5;33mBatchNormalization\u001b[0m)            │                        │               │\n",
       "├─────────────────────────────────┼────────────────────────┼───────────────┤\n",
       "│ max_pooling2d_2 (\u001b[38;5;33mMaxPooling2D\u001b[0m)  │ (\u001b[38;5;45mNone\u001b[0m, \u001b[38;5;34m4\u001b[0m, \u001b[38;5;34m4\u001b[0m, \u001b[38;5;34m256\u001b[0m)      │             \u001b[38;5;34m0\u001b[0m │\n",
       "├─────────────────────────────────┼────────────────────────┼───────────────┤\n",
       "│ conv2d_3 (\u001b[38;5;33mConv2D\u001b[0m)               │ (\u001b[38;5;45mNone\u001b[0m, \u001b[38;5;34m2\u001b[0m, \u001b[38;5;34m2\u001b[0m, \u001b[38;5;34m512\u001b[0m)      │     \u001b[38;5;34m1,180,160\u001b[0m │\n",
       "├─────────────────────────────────┼────────────────────────┼───────────────┤\n",
       "│ batch_normalization_3           │ (\u001b[38;5;45mNone\u001b[0m, \u001b[38;5;34m2\u001b[0m, \u001b[38;5;34m2\u001b[0m, \u001b[38;5;34m512\u001b[0m)      │         \u001b[38;5;34m2,048\u001b[0m │\n",
       "│ (\u001b[38;5;33mBatchNormalization\u001b[0m)            │                        │               │\n",
       "├─────────────────────────────────┼────────────────────────┼───────────────┤\n",
       "│ max_pooling2d_3 (\u001b[38;5;33mMaxPooling2D\u001b[0m)  │ (\u001b[38;5;45mNone\u001b[0m, \u001b[38;5;34m1\u001b[0m, \u001b[38;5;34m1\u001b[0m, \u001b[38;5;34m512\u001b[0m)      │             \u001b[38;5;34m0\u001b[0m │\n",
       "├─────────────────────────────────┼────────────────────────┼───────────────┤\n",
       "│ flatten (\u001b[38;5;33mFlatten\u001b[0m)               │ (\u001b[38;5;45mNone\u001b[0m, \u001b[38;5;34m512\u001b[0m)            │             \u001b[38;5;34m0\u001b[0m │\n",
       "├─────────────────────────────────┼────────────────────────┼───────────────┤\n",
       "│ dense (\u001b[38;5;33mDense\u001b[0m)                   │ (\u001b[38;5;45mNone\u001b[0m, \u001b[38;5;34m256\u001b[0m)            │       \u001b[38;5;34m131,328\u001b[0m │\n",
       "├─────────────────────────────────┼────────────────────────┼───────────────┤\n",
       "│ dropout (\u001b[38;5;33mDropout\u001b[0m)               │ (\u001b[38;5;45mNone\u001b[0m, \u001b[38;5;34m256\u001b[0m)            │             \u001b[38;5;34m0\u001b[0m │\n",
       "├─────────────────────────────────┼────────────────────────┼───────────────┤\n",
       "│ dense_1 (\u001b[38;5;33mDense\u001b[0m)                 │ (\u001b[38;5;45mNone\u001b[0m, \u001b[38;5;34m128\u001b[0m)            │        \u001b[38;5;34m32,896\u001b[0m │\n",
       "├─────────────────────────────────┼────────────────────────┼───────────────┤\n",
       "│ dropout_1 (\u001b[38;5;33mDropout\u001b[0m)             │ (\u001b[38;5;45mNone\u001b[0m, \u001b[38;5;34m128\u001b[0m)            │             \u001b[38;5;34m0\u001b[0m │\n",
       "├─────────────────────────────────┼────────────────────────┼───────────────┤\n",
       "│ dense_2 (\u001b[38;5;33mDense\u001b[0m)                 │ (\u001b[38;5;45mNone\u001b[0m, \u001b[38;5;34m7\u001b[0m)              │           \u001b[38;5;34m903\u001b[0m │\n",
       "└─────────────────────────────────┴────────────────────────┴───────────────┘\n"
      ]
     },
     "metadata": {},
     "output_type": "display_data"
    },
    {
     "data": {
      "text/html": [
       "<pre style=\"white-space:pre;overflow-x:auto;line-height:normal;font-family:Menlo,'DejaVu Sans Mono',consolas,'Courier New',monospace\"><span style=\"font-weight: bold\"> Total params: </span><span style=\"color: #00af00; text-decoration-color: #00af00\">1,718,791</span> (6.56 MB)\n",
       "</pre>\n"
      ],
      "text/plain": [
       "\u001b[1m Total params: \u001b[0m\u001b[38;5;34m1,718,791\u001b[0m (6.56 MB)\n"
      ]
     },
     "metadata": {},
     "output_type": "display_data"
    },
    {
     "data": {
      "text/html": [
       "<pre style=\"white-space:pre;overflow-x:auto;line-height:normal;font-family:Menlo,'DejaVu Sans Mono',consolas,'Courier New',monospace\"><span style=\"font-weight: bold\"> Trainable params: </span><span style=\"color: #00af00; text-decoration-color: #00af00\">1,716,871</span> (6.55 MB)\n",
       "</pre>\n"
      ],
      "text/plain": [
       "\u001b[1m Trainable params: \u001b[0m\u001b[38;5;34m1,716,871\u001b[0m (6.55 MB)\n"
      ]
     },
     "metadata": {},
     "output_type": "display_data"
    },
    {
     "data": {
      "text/html": [
       "<pre style=\"white-space:pre;overflow-x:auto;line-height:normal;font-family:Menlo,'DejaVu Sans Mono',consolas,'Courier New',monospace\"><span style=\"font-weight: bold\"> Non-trainable params: </span><span style=\"color: #00af00; text-decoration-color: #00af00\">1,920</span> (7.50 KB)\n",
       "</pre>\n"
      ],
      "text/plain": [
       "\u001b[1m Non-trainable params: \u001b[0m\u001b[38;5;34m1,920\u001b[0m (7.50 KB)\n"
      ]
     },
     "metadata": {},
     "output_type": "display_data"
    }
   ],
   "source": [
    "model_cnn.summary()"
   ]
  },
  {
   "cell_type": "markdown",
   "metadata": {},
   "source": [
    "## **DEFINICIÓN DE CALLBACKS**"
   ]
  },
  {
   "cell_type": "code",
   "execution_count": 10,
   "metadata": {},
   "outputs": [],
   "source": [
    "reduce_lr = ReduceLROnPlateau(monitor='val_accuracy', factor=0.75, patience=2, min_lr=0.000003796875, verbose=1, initial_lr=0.000009)\n",
    "early_stopping = EarlyStopping(monitor='val_accuracy', patience=5, restore_best_weights=True) \n"
   ]
  },
  {
   "cell_type": "markdown",
   "metadata": {},
   "source": [
    ">**\"ReduceLROnPlateau\" reduce la tasa de aprendizaje (learning_rate) si los valores de la pérdida en el conjunto de validación (val_loss) dejan de mejorar o empeoran durante un número determinado de épocas (especificado por patience, 2 epocas en nuestro caso). Factor indica por cuanto se irá reduciendo el learning rate. Monitorea \"val_loss\" por que así lo hemos decidido en \"monitor=val_loss\"**  \n",
    ">  \n",
    ">**EarlyStopping se encarga de detener el entrenamiento cuando la métrica fijada por 'monitor' (en nuestro caso, 'val_accuracy') deja de mejorar durante tantas épocas como indica patience. \"restore_best_weights=True\" hace que el modelo \"se quede\" con los pesos de la época que dio los mejores resultados para la métrica monitoreada.**  \n",
    ">    \n",
    ">  **⚠️⚠️  NO SOLO BUSCAMOS BUENOS RESULTADOS PARA PRESICIÓN Y PERDIDA BUSCAMOS QUE EL MODELO GENERALICE BIEN, 'EL PROGRAMA' SE PUEDE ENFRENTAR A FOTOGRAFIAS EN DIVERSAS CONDICIONES Y TIENE QUE TENER LA MISMA ESACTITUD CON ESTAS QUE CON AQUELLAS CON LAS QUE SE ENTRENÓ. POR ESO LA PACIENCIA ES TAN BAJA**\n"
   ]
  },
  {
   "cell_type": "markdown",
   "metadata": {},
   "source": [
    "## **ENTRENAMIENTO DEL MODELO**"
   ]
  },
  {
   "cell_type": "code",
   "execution_count": 10,
   "metadata": {},
   "outputs": [
    {
     "name": "stdout",
     "output_type": "stream",
     "text": [
      "Epoch 1/45\n"
     ]
    },
    {
     "name": "stderr",
     "output_type": "stream",
     "text": [
      "C:\\Users\\pepea\\AppData\\Local\\Packages\\PythonSoftwareFoundation.Python.3.12_qbz5n2kfra8p0\\LocalCache\\local-packages\\Python312\\site-packages\\keras\\src\\trainers\\data_adapters\\py_dataset_adapter.py:121: UserWarning: Your `PyDataset` class should call `super().__init__(**kwargs)` in its constructor. `**kwargs` can include `workers`, `use_multiprocessing`, `max_queue_size`. Do not pass these arguments to `fit()`, as they will be ignored.\n",
      "  self._warn_if_super_not_called()\n"
     ]
    },
    {
     "name": "stdout",
     "output_type": "stream",
     "text": [
      "\u001b[1m790/790\u001b[0m \u001b[32m━━━━━━━━━━━━━━━━━━━━\u001b[0m\u001b[37m\u001b[0m \u001b[1m180s\u001b[0m 221ms/step - accuracy: 0.1805 - loss: 2.5040 - val_accuracy: 0.2792 - val_loss: 1.9997 - learning_rate: 1.2000e-05\n",
      "Epoch 2/45\n",
      "\u001b[1m790/790\u001b[0m \u001b[32m━━━━━━━━━━━━━━━━━━━━\u001b[0m\u001b[37m\u001b[0m \u001b[1m174s\u001b[0m 220ms/step - accuracy: 0.2528 - loss: 2.0734 - val_accuracy: 0.3233 - val_loss: 1.9142 - learning_rate: 1.2000e-05\n",
      "Epoch 3/45\n",
      "\u001b[1m790/790\u001b[0m \u001b[32m━━━━━━━━━━━━━━━━━━━━\u001b[0m\u001b[37m\u001b[0m \u001b[1m174s\u001b[0m 220ms/step - accuracy: 0.2871 - loss: 1.9899 - val_accuracy: 0.3636 - val_loss: 1.8382 - learning_rate: 1.2000e-05\n",
      "Epoch 4/45\n",
      "\u001b[1m790/790\u001b[0m \u001b[32m━━━━━━━━━━━━━━━━━━━━\u001b[0m\u001b[37m\u001b[0m \u001b[1m174s\u001b[0m 220ms/step - accuracy: 0.3236 - loss: 1.9247 - val_accuracy: 0.3863 - val_loss: 1.7772 - learning_rate: 1.2000e-05\n",
      "Epoch 5/45\n",
      "\u001b[1m790/790\u001b[0m \u001b[32m━━━━━━━━━━━━━━━━━━━━\u001b[0m\u001b[37m\u001b[0m \u001b[1m173s\u001b[0m 218ms/step - accuracy: 0.3483 - loss: 1.8679 - val_accuracy: 0.4195 - val_loss: 1.7167 - learning_rate: 1.2000e-05\n",
      "Epoch 6/45\n",
      "\u001b[1m790/790\u001b[0m \u001b[32m━━━━━━━━━━━━━━━━━━━━\u001b[0m\u001b[37m\u001b[0m \u001b[1m165s\u001b[0m 209ms/step - accuracy: 0.3731 - loss: 1.8149 - val_accuracy: 0.4383 - val_loss: 1.6608 - learning_rate: 1.2000e-05\n",
      "Epoch 7/45\n",
      "\u001b[1m790/790\u001b[0m \u001b[32m━━━━━━━━━━━━━━━━━━━━\u001b[0m\u001b[37m\u001b[0m \u001b[1m166s\u001b[0m 210ms/step - accuracy: 0.4001 - loss: 1.7571 - val_accuracy: 0.4539 - val_loss: 1.6269 - learning_rate: 1.2000e-05\n",
      "Epoch 8/45\n",
      "\u001b[1m790/790\u001b[0m \u001b[32m━━━━━━━━━━━━━━━━━━━━\u001b[0m\u001b[37m\u001b[0m \u001b[1m168s\u001b[0m 212ms/step - accuracy: 0.4196 - loss: 1.7159 - val_accuracy: 0.4720 - val_loss: 1.5849 - learning_rate: 1.2000e-05\n",
      "Epoch 9/45\n",
      "\u001b[1m790/790\u001b[0m \u001b[32m━━━━━━━━━━━━━━━━━━━━\u001b[0m\u001b[37m\u001b[0m \u001b[1m176s\u001b[0m 222ms/step - accuracy: 0.4319 - loss: 1.6882 - val_accuracy: 0.4700 - val_loss: 1.5703 - learning_rate: 1.2000e-05\n",
      "Epoch 10/45\n",
      "\u001b[1m790/790\u001b[0m \u001b[32m━━━━━━━━━━━━━━━━━━━━\u001b[0m\u001b[37m\u001b[0m \u001b[1m177s\u001b[0m 223ms/step - accuracy: 0.4371 - loss: 1.6519 - val_accuracy: 0.4905 - val_loss: 1.5282 - learning_rate: 1.2000e-05\n",
      "Epoch 11/45\n",
      "\u001b[1m790/790\u001b[0m \u001b[32m━━━━━━━━━━━━━━━━━━━━\u001b[0m\u001b[37m\u001b[0m \u001b[1m177s\u001b[0m 224ms/step - accuracy: 0.4503 - loss: 1.6278 - val_accuracy: 0.4895 - val_loss: 1.5310 - learning_rate: 1.2000e-05\n",
      "Epoch 12/45\n",
      "\u001b[1m790/790\u001b[0m \u001b[32m━━━━━━━━━━━━━━━━━━━━\u001b[0m\u001b[37m\u001b[0m \u001b[1m178s\u001b[0m 225ms/step - accuracy: 0.4666 - loss: 1.5957 - val_accuracy: 0.5038 - val_loss: 1.4965 - learning_rate: 1.2000e-05\n",
      "Epoch 13/45\n",
      "\u001b[1m790/790\u001b[0m \u001b[32m━━━━━━━━━━━━━━━━━━━━\u001b[0m\u001b[37m\u001b[0m \u001b[1m178s\u001b[0m 225ms/step - accuracy: 0.4768 - loss: 1.5690 - val_accuracy: 0.5064 - val_loss: 1.4908 - learning_rate: 1.2000e-05\n",
      "Epoch 14/45\n",
      "\u001b[1m790/790\u001b[0m \u001b[32m━━━━━━━━━━━━━━━━━━━━\u001b[0m\u001b[37m\u001b[0m \u001b[1m172s\u001b[0m 218ms/step - accuracy: 0.4794 - loss: 1.5537 - val_accuracy: 0.5173 - val_loss: 1.4552 - learning_rate: 1.2000e-05\n",
      "Epoch 15/45\n",
      "\u001b[1m790/790\u001b[0m \u001b[32m━━━━━━━━━━━━━━━━━━━━\u001b[0m\u001b[37m\u001b[0m \u001b[1m173s\u001b[0m 219ms/step - accuracy: 0.4869 - loss: 1.5305 - val_accuracy: 0.5212 - val_loss: 1.4561 - learning_rate: 1.2000e-05\n",
      "Epoch 16/45\n",
      "\u001b[1m790/790\u001b[0m \u001b[32m━━━━━━━━━━━━━━━━━━━━\u001b[0m\u001b[37m\u001b[0m \u001b[1m180s\u001b[0m 227ms/step - accuracy: 0.4993 - loss: 1.5077 - val_accuracy: 0.5272 - val_loss: 1.4326 - learning_rate: 1.2000e-05\n",
      "Epoch 17/45\n",
      "\u001b[1m790/790\u001b[0m \u001b[32m━━━━━━━━━━━━━━━━━━━━\u001b[0m\u001b[37m\u001b[0m \u001b[1m180s\u001b[0m 228ms/step - accuracy: 0.5021 - loss: 1.4957 - val_accuracy: 0.5324 - val_loss: 1.4241 - learning_rate: 1.2000e-05\n",
      "Epoch 18/45\n",
      "\u001b[1m790/790\u001b[0m \u001b[32m━━━━━━━━━━━━━━━━━━━━\u001b[0m\u001b[37m\u001b[0m \u001b[1m180s\u001b[0m 228ms/step - accuracy: 0.5130 - loss: 1.4651 - val_accuracy: 0.5342 - val_loss: 1.4170 - learning_rate: 1.2000e-05\n",
      "Epoch 19/45\n",
      "\u001b[1m790/790\u001b[0m \u001b[32m━━━━━━━━━━━━━━━━━━━━\u001b[0m\u001b[37m\u001b[0m \u001b[1m180s\u001b[0m 228ms/step - accuracy: 0.5140 - loss: 1.4621 - val_accuracy: 0.5241 - val_loss: 1.4260 - learning_rate: 1.2000e-05\n",
      "Epoch 20/45\n",
      "\u001b[1m790/790\u001b[0m \u001b[32m━━━━━━━━━━━━━━━━━━━━\u001b[0m\u001b[37m\u001b[0m \u001b[1m0s\u001b[0m 223ms/step - accuracy: 0.5209 - loss: 1.4424\n",
      "Epoch 20: ReduceLROnPlateau reducing learning rate to 9.000000318337698e-06.\n",
      "\u001b[1m790/790\u001b[0m \u001b[32m━━━━━━━━━━━━━━━━━━━━\u001b[0m\u001b[37m\u001b[0m \u001b[1m181s\u001b[0m 229ms/step - accuracy: 0.5209 - loss: 1.4423 - val_accuracy: 0.5180 - val_loss: 1.4576 - learning_rate: 1.2000e-05\n",
      "Epoch 21/45\n",
      "\u001b[1m790/790\u001b[0m \u001b[32m━━━━━━━━━━━━━━━━━━━━\u001b[0m\u001b[37m\u001b[0m \u001b[1m174s\u001b[0m 220ms/step - accuracy: 0.5266 - loss: 1.4287 - val_accuracy: 0.5327 - val_loss: 1.4162 - learning_rate: 9.0000e-06\n",
      "Epoch 22/45\n",
      "\u001b[1m790/790\u001b[0m \u001b[32m━━━━━━━━━━━━━━━━━━━━\u001b[0m\u001b[37m\u001b[0m \u001b[1m172s\u001b[0m 218ms/step - accuracy: 0.5255 - loss: 1.4242 - val_accuracy: 0.5480 - val_loss: 1.3721 - learning_rate: 9.0000e-06\n",
      "Epoch 23/45\n",
      "\u001b[1m790/790\u001b[0m \u001b[32m━━━━━━━━━━━━━━━━━━━━\u001b[0m\u001b[37m\u001b[0m \u001b[1m172s\u001b[0m 218ms/step - accuracy: 0.5338 - loss: 1.4096 - val_accuracy: 0.5553 - val_loss: 1.3613 - learning_rate: 9.0000e-06\n",
      "Epoch 24/45\n",
      "\u001b[1m790/790\u001b[0m \u001b[32m━━━━━━━━━━━━━━━━━━━━\u001b[0m\u001b[37m\u001b[0m \u001b[1m173s\u001b[0m 218ms/step - accuracy: 0.5395 - loss: 1.3936 - val_accuracy: 0.5505 - val_loss: 1.3676 - learning_rate: 9.0000e-06\n",
      "Epoch 25/45\n",
      "\u001b[1m790/790\u001b[0m \u001b[32m━━━━━━━━━━━━━━━━━━━━\u001b[0m\u001b[37m\u001b[0m \u001b[1m0s\u001b[0m 212ms/step - accuracy: 0.5380 - loss: 1.3956\n",
      "Epoch 25: ReduceLROnPlateau reducing learning rate to 6.750000238753273e-06.\n",
      "\u001b[1m790/790\u001b[0m \u001b[32m━━━━━━━━━━━━━━━━━━━━\u001b[0m\u001b[37m\u001b[0m \u001b[1m173s\u001b[0m 218ms/step - accuracy: 0.5380 - loss: 1.3956 - val_accuracy: 0.5545 - val_loss: 1.3646 - learning_rate: 9.0000e-06\n",
      "Epoch 26/45\n",
      "\u001b[1m790/790\u001b[0m \u001b[32m━━━━━━━━━━━━━━━━━━━━\u001b[0m\u001b[37m\u001b[0m \u001b[1m173s\u001b[0m 218ms/step - accuracy: 0.5434 - loss: 1.3800 - val_accuracy: 0.5506 - val_loss: 1.3707 - learning_rate: 6.7500e-06\n",
      "Epoch 27/45\n",
      "\u001b[1m790/790\u001b[0m \u001b[32m━━━━━━━━━━━━━━━━━━━━\u001b[0m\u001b[37m\u001b[0m \u001b[1m0s\u001b[0m 212ms/step - accuracy: 0.5500 - loss: 1.3661\n",
      "Epoch 27: ReduceLROnPlateau reducing learning rate to 5.0625003495952114e-06.\n",
      "\u001b[1m790/790\u001b[0m \u001b[32m━━━━━━━━━━━━━━━━━━━━\u001b[0m\u001b[37m\u001b[0m \u001b[1m173s\u001b[0m 218ms/step - accuracy: 0.5500 - loss: 1.3661 - val_accuracy: 0.5495 - val_loss: 1.3761 - learning_rate: 6.7500e-06\n",
      "Epoch 28/45\n",
      "\u001b[1m790/790\u001b[0m \u001b[32m━━━━━━━━━━━━━━━━━━━━\u001b[0m\u001b[37m\u001b[0m \u001b[1m173s\u001b[0m 219ms/step - accuracy: 0.5465 - loss: 1.3594 - val_accuracy: 0.5592 - val_loss: 1.3526 - learning_rate: 5.0625e-06\n",
      "Epoch 29/45\n",
      "\u001b[1m790/790\u001b[0m \u001b[32m━━━━━━━━━━━━━━━━━━━━\u001b[0m\u001b[37m\u001b[0m \u001b[1m173s\u001b[0m 219ms/step - accuracy: 0.5486 - loss: 1.3520 - val_accuracy: 0.5565 - val_loss: 1.3593 - learning_rate: 5.0625e-06\n",
      "Epoch 30/45\n",
      "\u001b[1m790/790\u001b[0m \u001b[32m━━━━━━━━━━━━━━━━━━━━\u001b[0m\u001b[37m\u001b[0m \u001b[1m0s\u001b[0m 212ms/step - accuracy: 0.5516 - loss: 1.3508\n",
      "Epoch 30: ReduceLROnPlateau reducing learning rate to 3.7968752621964086e-06.\n",
      "\u001b[1m790/790\u001b[0m \u001b[32m━━━━━━━━━━━━━━━━━━━━\u001b[0m\u001b[37m\u001b[0m \u001b[1m173s\u001b[0m 219ms/step - accuracy: 0.5516 - loss: 1.3508 - val_accuracy: 0.5542 - val_loss: 1.3631 - learning_rate: 5.0625e-06\n",
      "Epoch 31/45\n",
      "\u001b[1m790/790\u001b[0m \u001b[32m━━━━━━━━━━━━━━━━━━━━\u001b[0m\u001b[37m\u001b[0m \u001b[1m173s\u001b[0m 218ms/step - accuracy: 0.5522 - loss: 1.3482 - val_accuracy: 0.5614 - val_loss: 1.3489 - learning_rate: 3.7969e-06\n",
      "Epoch 32/45\n",
      "\u001b[1m790/790\u001b[0m \u001b[32m━━━━━━━━━━━━━━━━━━━━\u001b[0m\u001b[37m\u001b[0m \u001b[1m173s\u001b[0m 219ms/step - accuracy: 0.5572 - loss: 1.3433 - val_accuracy: 0.5610 - val_loss: 1.3540 - learning_rate: 3.7969e-06\n",
      "Epoch 33/45\n",
      "\u001b[1m790/790\u001b[0m \u001b[32m━━━━━━━━━━━━━━━━━━━━\u001b[0m\u001b[37m\u001b[0m \u001b[1m173s\u001b[0m 219ms/step - accuracy: 0.5615 - loss: 1.3376 - val_accuracy: 0.5641 - val_loss: 1.3397 - learning_rate: 3.7969e-06\n",
      "Epoch 34/45\n",
      "\u001b[1m790/790\u001b[0m \u001b[32m━━━━━━━━━━━━━━━━━━━━\u001b[0m\u001b[37m\u001b[0m \u001b[1m173s\u001b[0m 218ms/step - accuracy: 0.5584 - loss: 1.3381 - val_accuracy: 0.5596 - val_loss: 1.3543 - learning_rate: 3.7969e-06\n",
      "Epoch 35/45\n",
      "\u001b[1m790/790\u001b[0m \u001b[32m━━━━━━━━━━━━━━━━━━━━\u001b[0m\u001b[37m\u001b[0m \u001b[1m172s\u001b[0m 217ms/step - accuracy: 0.5630 - loss: 1.3288 - val_accuracy: 0.5653 - val_loss: 1.3338 - learning_rate: 3.7969e-06\n",
      "Epoch 36/45\n",
      "\u001b[1m790/790\u001b[0m \u001b[32m━━━━━━━━━━━━━━━━━━━━\u001b[0m\u001b[37m\u001b[0m \u001b[1m172s\u001b[0m 217ms/step - accuracy: 0.5620 - loss: 1.3308 - val_accuracy: 0.5698 - val_loss: 1.3304 - learning_rate: 3.7969e-06\n",
      "Epoch 37/45\n",
      "\u001b[1m790/790\u001b[0m \u001b[32m━━━━━━━━━━━━━━━━━━━━\u001b[0m\u001b[37m\u001b[0m \u001b[1m172s\u001b[0m 218ms/step - accuracy: 0.5591 - loss: 1.3336 - val_accuracy: 0.5690 - val_loss: 1.3250 - learning_rate: 3.7969e-06\n",
      "Epoch 38/45\n",
      "\u001b[1m790/790\u001b[0m \u001b[32m━━━━━━━━━━━━━━━━━━━━\u001b[0m\u001b[37m\u001b[0m \u001b[1m173s\u001b[0m 219ms/step - accuracy: 0.5673 - loss: 1.3134 - val_accuracy: 0.5714 - val_loss: 1.3217 - learning_rate: 3.7969e-06\n",
      "Epoch 39/45\n",
      "\u001b[1m790/790\u001b[0m \u001b[32m━━━━━━━━━━━━━━━━━━━━\u001b[0m\u001b[37m\u001b[0m \u001b[1m172s\u001b[0m 218ms/step - accuracy: 0.5664 - loss: 1.3191 - val_accuracy: 0.5700 - val_loss: 1.3241 - learning_rate: 3.7969e-06\n",
      "Epoch 40/45\n",
      "\u001b[1m790/790\u001b[0m \u001b[32m━━━━━━━━━━━━━━━━━━━━\u001b[0m\u001b[37m\u001b[0m \u001b[1m195s\u001b[0m 247ms/step - accuracy: 0.5671 - loss: 1.3159 - val_accuracy: 0.5732 - val_loss: 1.3286 - learning_rate: 3.7969e-06\n",
      "Epoch 41/45\n",
      "\u001b[1m790/790\u001b[0m \u001b[32m━━━━━━━━━━━━━━━━━━━━\u001b[0m\u001b[37m\u001b[0m \u001b[1m195s\u001b[0m 246ms/step - accuracy: 0.5720 - loss: 1.3063 - val_accuracy: 0.5718 - val_loss: 1.3252 - learning_rate: 3.7969e-06\n",
      "Epoch 42/45\n",
      "\u001b[1m790/790\u001b[0m \u001b[32m━━━━━━━━━━━━━━━━━━━━\u001b[0m\u001b[37m\u001b[0m \u001b[1m0s\u001b[0m 225ms/step - accuracy: 0.5690 - loss: 1.3060\n",
      "Epoch 42: ReduceLROnPlateau reducing learning rate to 3.796875e-06.\n",
      "\u001b[1m790/790\u001b[0m \u001b[32m━━━━━━━━━━━━━━━━━━━━\u001b[0m\u001b[37m\u001b[0m \u001b[1m182s\u001b[0m 230ms/step - accuracy: 0.5690 - loss: 1.3060 - val_accuracy: 0.5651 - val_loss: 1.3438 - learning_rate: 3.7969e-06\n",
      "Epoch 43/45\n",
      "\u001b[1m790/790\u001b[0m \u001b[32m━━━━━━━━━━━━━━━━━━━━\u001b[0m\u001b[37m\u001b[0m \u001b[1m178s\u001b[0m 225ms/step - accuracy: 0.5742 - loss: 1.3021 - val_accuracy: 0.5735 - val_loss: 1.3110 - learning_rate: 3.7969e-06\n",
      "Epoch 44/45\n",
      "\u001b[1m790/790\u001b[0m \u001b[32m━━━━━━━━━━━━━━━━━━━━\u001b[0m\u001b[37m\u001b[0m \u001b[1m185s\u001b[0m 234ms/step - accuracy: 0.5762 - loss: 1.2912 - val_accuracy: 0.5721 - val_loss: 1.3144 - learning_rate: 3.7969e-06\n",
      "Epoch 45/45\n",
      "\u001b[1m790/790\u001b[0m \u001b[32m━━━━━━━━━━━━━━━━━━━━\u001b[0m\u001b[37m\u001b[0m \u001b[1m173s\u001b[0m 219ms/step - accuracy: 0.5733 - loss: 1.3033 - val_accuracy: 0.5727 - val_loss: 1.3132 - learning_rate: 3.7969e-06\n"
     ]
    }
   ],
   "source": [
    "history = model_cnn.fit(datagen.flow(X_train, y_train, batch_size=64),\n",
    "                    epochs=45,  \n",
    "                    verbose=1,\n",
    "                    validation_data=(X_val, y_val),  \n",
    "                    callbacks=[early_stopping, reduce_lr])"
   ]
  },
  {
   "cell_type": "markdown",
   "metadata": {},
   "source": [
    "> **El tiempo de entrenamiento de este modelo, con estos datos e hiperparámetros, fue de 2 horas y 10 minutos. Esto dependerá de las características del ordenador donde se corra. Puedes ver las características del ordenador en el Jupyter Notebook 'instrucciones'.**"
   ]
  },
  {
   "cell_type": "markdown",
   "metadata": {},
   "source": [
    ">**Para el entrenamiento usaremos el dataset reservado para tal fin. El tamaño de lotes, 'batch_size', se ha elegido por experimentación, probando diferentes valores, y probamos diferentes épocas hasta que vimos que los valores dejaban de mejorar. La validación será con la parte de los datos reservada para tal fin.**  \n",
    ">  \n"
   ]
  },
  {
   "cell_type": "markdown",
   "metadata": {},
   "source": [
    "## **EVALUACIÓN DEL MODELO CONTRA EL CONJUNTO DE PRUEBAS**"
   ]
  },
  {
   "cell_type": "code",
   "execution_count": 11,
   "metadata": {},
   "outputs": [
    {
     "name": "stdout",
     "output_type": "stream",
     "text": [
      "Pérdida en el conjunto de prueba:     1.3674\n",
      "Presición en el conjunto de prueba:   56.01%\n"
     ]
    }
   ],
   "source": [
    "loss, accuracy = model_cnn.evaluate(X_test, y_test, verbose=0)\n",
    "print(f'Pérdida en el conjunto de prueba:     {loss:.4f}')\n",
    "print(f'Presición en el conjunto de prueba:   {accuracy*100:.2f}%')"
   ]
  },
  {
   "cell_type": "markdown",
   "metadata": {},
   "source": [
    "**RESULTADOS:**  \n",
    "  \n",
    "Pérdida en el conjunto de prueba:     1.3674  \n",
    "Presición en el conjunto de prueba:   56.01%  \n",
    "\n",
    "*Al correr el mismo modelo con los mismos datos, los resultados pueden variar ligeramente debido a la aleatoriedad de algunos cálculos.*"
   ]
  },
  {
   "cell_type": "markdown",
   "metadata": {},
   "source": [
    "> **Una vez terminado el entrenamiento del modelo, es importante saber qué tan bien (o mal) funciona el modelo. Durante el proceso de entrenamiento hemos ido viendo cómo mejoraban las métricas con respecto al conjunto de datos de validación. Es posible que el modelo se haya aprendido un poco el dataset de validación, por lo que es importante conocer las metricas principales (precisión y pérdida en nuestro caso) en un conjunto de datos hasta ahora no visto. Por eso, veremos estas métricas en el conjunto de pruebas (test).**"
   ]
  },
  {
   "cell_type": "markdown",
   "metadata": {},
   "source": [
    "## **ESTUDIO DE LA MEJORA DEL MODELO A LO LARGO DE LAS EPOCHS**"
   ]
  },
  {
   "cell_type": "code",
   "execution_count": 12,
   "metadata": {},
   "outputs": [
    {
     "data": {
      "image/png": "[encoded data removed]",
      "text/plain": [
       "<Figure size 1200x400 with 2 Axes>"
      ]
     },
     "metadata": {},
     "output_type": "display_data"
    }
   ],
   "source": [
    "train_accuracy = history.history['accuracy']\n",
    "val_accuracy = history.history['val_accuracy']\n",
    "train_loss = history.history['loss']\n",
    "val_loss = history.history['val_loss']\n",
    "\n",
    "# Crear gráficos de precisión\n",
    "plt.figure(figsize=(12, 4))\n",
    "plt.subplot(1, 2, 1)\n",
    "plt.plot(train_accuracy, label='ENTRENAMIENTO')\n",
    "plt.plot(val_accuracy, label='VALIDACIÓN')\n",
    "plt.xlabel('EPOCA')\n",
    "plt.ylabel('PRECISIÓN')\n",
    "plt.title('EVOLUCIÓN DE LA PRECISIÓN')\n",
    "plt.legend()\n",
    "\n",
    "# Crear gráficos de pérdida\n",
    "plt.subplot(1, 2, 2)\n",
    "plt.plot(train_loss, label='ENTRENAMIENTO')\n",
    "plt.plot(val_loss, label='VALIDACIÓN')\n",
    "plt.xlabel('EPOCA')\n",
    "plt.ylabel('PÉRDIDA')\n",
    "plt.title('EVOLUCIÓN DE LA PÉRDIDA')\n",
    "plt.legend()\n",
    "\n",
    "plt.tight_layout()\n",
    "plt.show()"
   ]
  },
  {
   "cell_type": "markdown",
   "metadata": {},
   "source": [
    ">**En un modelo predictivo y clasificatorio, no solo importan las métricas de precisión y pérdida; también es muy importante asegurarnos de que no exista el 'overfitting'. De nada nos sirve que sea muy bueno manejando los datos con los que se entrenó y validó el modelo, pero muy malo con otros datos (a esto llamamos lo 'overfitting' o 'sobreajuste').**\n",
    ">\n",
    ">**Con estas gráficas podemos observar la evolución de las métricas de entrenamiento y validación. Dependiendo de cómo sean estas curvas, podremos hacernos una idea de si hay o no 'overfitting'**"
   ]
  },
  {
   "cell_type": "markdown",
   "metadata": {},
   "source": [
    "**📊📈📉 Pese a las fluctuaciones que observamos en las métricas de precisión y pérdida a lo largo del entrenamiento, en la línea de resultados de validación, esta sigue un patrón muy similar a la línea de resultados de entrenamiento. El entrenamiento no termina cuando la precisión empieza a bajar o la pérdida a subir, sino que el entrenamiento se detiene cuando estas mejoras se empiezan a ralentizar.**\n",
    "\n",
    "**Además, si vemos los resultados contra el test (hasta el momento el modelo no los había visto), los resultados son muy similares, por lo que podemos decir que no hay sobreajuste (overfitting), lo cual era un objetivo clave en este proyecto. Otros modelos con precisiones mayores se habían descartado por este motivo.**"
   ]
  },
  {
   "cell_type": "markdown",
   "metadata": {},
   "source": [
    "<img src=\"imagenes/overfiting.jpg\" alt=\"Texto alternativo\" width=\"30%\" />"
   ]
  },
  {
   "cell_type": "markdown",
   "metadata": {},
   "source": [
    "## **EVALUACIÓN DEL MODELO CONTRA EL CONJUNTO DE PRUEBAS**"
   ]
  },
  {
   "cell_type": "code",
   "execution_count": 13,
   "metadata": {},
   "outputs": [
    {
     "name": "stdout",
     "output_type": "stream",
     "text": [
      "\u001b[1m196/196\u001b[0m \u001b[32m━━━━━━━━━━━━━━━━━━━━\u001b[0m\u001b[37m\u001b[0m \u001b[1m6s\u001b[0m 27ms/step\n"
     ]
    }
   ],
   "source": [
    "y_pred = model_cnn.predict(X_test)\n",
    "y_pred_classes = np.argmax(y_pred, axis=1)"
   ]
  },
  {
   "cell_type": "markdown",
   "metadata": {},
   "source": [
    ">**Ahora haremos las predicciones con el dataset de pruebas completo, para así poder obtener los resultados y ver qué tan bueno resulta el modelo.**"
   ]
  },
  {
   "cell_type": "markdown",
   "metadata": {},
   "source": [
    "## **CLASSIFICATION REPORT CNN**"
   ]
  },
  {
   "cell_type": "code",
   "execution_count": 14,
   "metadata": {},
   "outputs": [
    {
     "name": "stdout",
     "output_type": "stream",
     "text": [
      "              precision    recall  f1-score   support\n",
      "\n",
      "      Enfado       0.43      0.48      0.45       895\n",
      "        Asco       0.79      0.71      0.75       895\n",
      "       Miedo       0.41      0.28      0.33       895\n",
      "   Felicidad       0.76      0.72      0.74       895\n",
      "    Tristeza       0.46      0.29      0.36       895\n",
      "    Sorpresa       0.61      0.85      0.71       895\n",
      "     Neutral       0.45      0.59      0.51       895\n",
      "\n",
      "    accuracy                           0.56      6265\n",
      "   macro avg       0.56      0.56      0.55      6265\n",
      "weighted avg       0.56      0.56      0.55      6265\n",
      "\n"
     ]
    }
   ],
   "source": [
    "class_names = ['Enfado', 'Asco', 'Miedo', 'Felicidad', 'Tristeza', 'Sorpresa', 'Neutral']\n",
    "print(classification_report(y_test, y_pred_classes, target_names=class_names))"
   ]
  },
  {
   "cell_type": "markdown",
   "metadata": {},
   "source": [
    ">**Este código utiliza classification_report para generar un informe detallado de la precisión del modelo sobre los datos de prueba. class_names especifica las etiquetas de las clases, y el informe muestra métricas como precisión, recall y F1-score para cada clase, facilitando la evaluación del rendimiento del modelo en la clasificación de emociones.**"
   ]
  },
  {
   "cell_type": "markdown",
   "metadata": {},
   "source": [
    "## **GUARDADO DEL MODELO CNN**"
   ]
  },
  {
   "cell_type": "code",
   "execution_count": 15,
   "metadata": {},
   "outputs": [
    {
     "name": "stderr",
     "output_type": "stream",
     "text": [
      "WARNING:absl:You are saving your model as an HDF5 file via `model.save()` or `keras.saving.save_model(model)`. This file format is considered legacy. We recommend using instead the native Keras format, e.g. `model.save('my_model.keras')` or `keras.saving.save_model(model, 'my_model.keras')`. \n"
     ]
    }
   ],
   "source": [
    "model_cnn.save(os.path.join('modelos_entrenados', 'modelo_cnn.h5'))\n",
    "\n",
    "save_model(model_cnn, os.path.join('modelos_entrenados', 'modelo_cnn.keras'))"
   ]
  },
  {
   "cell_type": "markdown",
   "metadata": {},
   "source": [
    "> **El modelo entrenado ha sido guardado en dos formatos diferentes. Aunque ambos, el formato h5 y el formato keras, mantienen la misma calidad de los datos, la elección del formato puede afectar su usabilidad a largo plazo. Por ello, hemos optado por ofrecer ambas opciones al cliente para que pueda seleccionar la más conveniente según sus necesidades futuras.**"
   ]
  },
  {
   "cell_type": "markdown",
   "metadata": {},
   "source": [
    "## **RESUMEN/EXPLICACIÓN DEL MODELO CNN**\n",
    "\n",
    "Este modelo CNN (Convolutional Neural Network) está diseñado para reconocer las expresiones faciales en fotografías en blanco y negro de 48x48 píxeles, según chat gtp son algo así como un cerebro digital que aprende a identificar emociones (realmente expresiones faciales) en fotos. 🧠\n",
    "\n",
    "- **Capas Convolucionales**: Son como filtros que detectan características como bordes y texturas en las imágenes  \n",
    "propias de cada expresión, es decir busca las características comunes a cada una de las 7 expresiones faciales \n",
    "que este modelo reconoce, otorgándole una etiqueta a cada una.    \n",
    "\n",
    "- **Capas Densas**: Son como capas finales que interpretan estas características para decidir qué emoción se ve en la imagen.    \n",
    "Digamos que es como un inspector de policía que ve las pruebas (las características) y dice \"El sujeto está feliz\"  \n",
    "  \n",
    "- **Dropout**: Es una técnica para evitar que el modelo memorice demasiado y pueda generalizar mejor.    \n",
    "¿Conoces esa fotografía de un hombre durmiendo en un colchón que tiene su forma? pues con dropout se busca evitar eso.  \n",
    "  \n",
    "- **Función de Pérdida**: Durante el entrenamiento (usando la parte de datos reservada para validación) comprueba cómo   \n",
    "de grande son los fallos que está teniendo.    \n",
    "\n",
    "- **Compilación**:  Es como organizar la granja por la mañana. Preparamos al modelo diciéndole qué errores evitar,    \n",
    "cómo ajustar los pesos de las neuronas (con Adam, ahora lo vemos), y qué métricas usar para ver como de bien está aprendiendo.  \n",
    "  \n",
    "- **Optimizador (Adam)**:  El optimizador Adam ajusta cómo la CNN aprende de los datos. Es como un \"entrenador personal\" (O el jefe de la granja)    \n",
    "que guía al modelo sobre cómo mejorar durante el entrenamiento, ajustando los pesos y sesgos de las neuronas para que pueda    \n",
    "predecir mejor las expresiones faciales en las imágenes.    \n",
    "- **Callback:**\n",
    "  - **EarlyStopping:** Es como \"el capataz\" durante el entrenamiento. Monitorea cómo la precisión en los datos de validación va mejorando y detiene el entrenamiento cuando la precisión deja de mejorar, restaurando los mejores pesos del modelo. Esto ayuda a prevenir el sobreajuste y asegura que el modelo generalice bien a nuevos datos.\n",
    "\n",
    "  - **ReduceLROnPlateau:** En las máquinas de vapor había un trabajador encargado de abrir o cerrar válvulas según fueran las necesidades y cómo se comportara la máquina. Este parámetro hace algo parecido, va disminuyendo la tasa de aprendizaje si la métrica elegida (val_loss) empeora.\n",
    "  \n",
    "- **Métricas**: Digamos que son como las notas del cole, debemos saber qué tan bueno es el modelo, para ello  \n",
    "dejamos reservada parte, el test, que no vio en el entrenamiento, para poder ver cómo predice.  \n",
    "En este caso tenemos dos de las asignaturas más importantes, **Accuracy** (puntería), o sea... del total de predicciones cuántas  \n",
    "eran buenas, poco más que decir y **loss**, que es como decir \"cómo de malas son las predicciones que son incorrectas\" dicho de otro modo, En un modelo que diferenciara animales, si se predice \"Gorila\" y la foto era un chimpancé la predicción, sin ser correcta, no es lo peor del mundo, en cambio si predigera \"berberecho\" estaría muy mal.  \n",
    "  \n",
    "- **ESTUDIO DE LA MEJORA:** Es importante saber en qué momento, época/epoch, el entrenamiento deja de mejorar. Esto lo vemos en las gráficas ya comentadas. Con ello podremos saber hasta cuánto podemos reducir las épocas de cara a un nuevo entrenamiento.\n",
    "\n",
    "Entrenamos el modelo con los datos de entrenamiento y luego lo evaluamos para ver si puede predecir emociones en datos que no ha visto.  \n",
    "Según chatgtp (y cito textualmente) \"¡Es como enseñar a una computadora a leer expresiones faciales! 😊\"\n",
    "\n",
    "Es importante tener en cuenta que la salida del modelo no son strings, no nos dice directamente la emoción, nos da un número entero, \n",
    "por lo que usar un diccionario se hace necesario, al menos conocerlos: \n",
    "  \n",
    "- 0 para 'Enfado' 😡\n",
    "- 1 para 'Asco' 🤢\n",
    "- 2 para 'Miedo' 😨\n",
    "- 3 para 'Felicidad' 😄\n",
    "- 4 para 'Tristeza' 😢\n",
    "- 5 para 'Sorpresa' 😮\n",
    "- 6 para 'Neutral' 😐  \n"
   ]
  },
  {
   "cell_type": "markdown",
   "metadata": {},
   "source": [
    "<img src=\"Imagenes/reentreno.jpg\" alt=\"Imagen creada con inteligencia artificial y editada con Microsoft Paint\" style=\"border-radius: 15px; width: 75%;\">\n",
    "\n",
    "*Imagen creada con inteligencia artificial*"
   ]
  },
  {
   "cell_type": "markdown",
   "metadata": {},
   "source": [
    "## **INTRODUCCIÓN**\n",
    "  \n",
    "En el entrenamiento de otros modelos, conseguimos precisiones contra validación algo mayores al 70%, pero se quedaron en aproximadamente un 67% en su resultado contra el test. Además, en las gráficas de evolución se intuía algo de sobreajuste, el cual queremos evitar en la medida de lo posible, incluso en detrimento de la precisión. Para solucionar este problema, el equipo decidió ser un poco menos ambicioso en un primer momento y buscar un modelo que dé mejores gráficas de entrenamiento, con menor sobreajuste, aunque a costa de la precisión. Para mejorar esto, hemos decidido hacer un reentrenamiento (ahora entiendes el porqué de la imagen, volver a entrenar) con un dataset nuevo. Con ello, esperamos que el modelo generalice mejor y, con suerte, aumente su precisión."
   ]
  },
  {
   "cell_type": "markdown",
   "metadata": {},
   "source": [
    "## **CARGADO DEL MODELO ENTRENADO:**"
   ]
  },
  {
   "cell_type": "code",
   "execution_count": 7,
   "metadata": {},
   "outputs": [
    {
     "name": "stderr",
     "output_type": "stream",
     "text": [
      "C:\\Users\\pepea\\AppData\\Local\\Packages\\PythonSoftwareFoundation.Python.3.12_qbz5n2kfra8p0\\LocalCache\\local-packages\\Python312\\site-packages\\keras\\src\\saving\\saving_lib.py:576: UserWarning: Skipping variable loading for optimizer 'rmsprop', because it has 24 variables whereas the saved optimizer has 46 variables. \n",
      "  saveable.load_own_variables(weights_store.get(inner_path))\n"
     ]
    }
   ],
   "source": [
    "modelo_cnn_reentreno = load_model('modelos_entrenados/modelo_cnn.keras')"
   ]
  },
  {
   "cell_type": "markdown",
   "metadata": {},
   "source": [
    "## **CARGADO DE LOS NUEVOS DATOS:**"
   ]
  },
  {
   "cell_type": "code",
   "execution_count": 8,
   "metadata": {},
   "outputs": [],
   "source": [
    "df_affe = pd.read_csv('datos/AffectNet/affe_balanceado.csv')"
   ]
  },
  {
   "cell_type": "markdown",
   "metadata": {},
   "source": [
    "## **PREPARACIÓN DE LOS DATOS NUEVOS:**"
   ]
  },
  {
   "cell_type": "code",
   "execution_count": 9,
   "metadata": {},
   "outputs": [],
   "source": [
    "X_train_new, y_train_new = prepare_data(df_affe[df_affe['Usage'] == 'Training'])\n",
    "X_val_new, y_val_new = prepare_data(df_affe[df_affe['Usage'] == 'PrivateTest'])\n",
    "X_test_new, y_test_new = prepare_data(df_affe[df_affe['Usage'] == 'PublicTest'])"
   ]
  },
  {
   "cell_type": "markdown",
   "metadata": {},
   "source": [
    "## **AUMENTACIÓN DE DATOS PARA EL CONJUNTO DE PRUEBAS DEL NUEVO DATASET:**"
   ]
  },
  {
   "cell_type": "code",
   "execution_count": 12,
   "metadata": {},
   "outputs": [],
   "source": [
    "datagen.fit(X_train_new)"
   ]
  },
  {
   "cell_type": "markdown",
   "metadata": {},
   "source": [
    "## **RECOMPILADO**"
   ]
  },
  {
   "cell_type": "code",
   "execution_count": 10,
   "metadata": {},
   "outputs": [],
   "source": [
    "optimizer = Adam(learning_rate= 0.000012)  \n",
    "modelo_cnn_reentreno.compile(loss='sparse_categorical_crossentropy',\n",
    "                  optimizer=optimizer,\n",
    "                  metrics=['accuracy'])"
   ]
  },
  {
   "cell_type": "markdown",
   "metadata": {},
   "source": [
    "## **DEFINICIÓN DE CALLBACKS**"
   ]
  },
  {
   "cell_type": "code",
   "execution_count": 11,
   "metadata": {},
   "outputs": [],
   "source": [
    "reduce_lr_reentreno = ReduceLROnPlateau(monitor='val_accuracy', factor=0.75, patience=2, min_lr=0.00000003796875, verbose=1, initial_lr=0.000009)\n",
    "early_stopping_reentreno = EarlyStopping(monitor='val_accuracy', patience=4, restore_best_weights=True) "
   ]
  },
  {
   "cell_type": "markdown",
   "metadata": {},
   "source": [
    ">**Podríamos no definir nuevos callbacks para el reentrenamiento y usar las definiciones que utilizamos para el entrenamiento, pero de esta manera podemos experimentar con el reentrenamiento.**  \n",
    ">  \n"
   ]
  },
  {
   "cell_type": "markdown",
   "metadata": {},
   "source": [
    "## **REENTRENO**"
   ]
  },
  {
   "cell_type": "code",
   "execution_count": 12,
   "metadata": {},
   "outputs": [
    {
     "name": "stdout",
     "output_type": "stream",
     "text": [
      "Epoch 1/12\n"
     ]
    },
    {
     "name": "stderr",
     "output_type": "stream",
     "text": [
      "C:\\Users\\pepea\\AppData\\Local\\Packages\\PythonSoftwareFoundation.Python.3.12_qbz5n2kfra8p0\\LocalCache\\local-packages\\Python312\\site-packages\\keras\\src\\trainers\\data_adapters\\py_dataset_adapter.py:121: UserWarning: Your `PyDataset` class should call `super().__init__(**kwargs)` in its constructor. `**kwargs` can include `workers`, `use_multiprocessing`, `max_queue_size`. Do not pass these arguments to `fit()`, as they will be ignored.\n",
      "  self._warn_if_super_not_called()\n"
     ]
    },
    {
     "name": "stdout",
     "output_type": "stream",
     "text": [
      "\u001b[1m449/449\u001b[0m \u001b[32m━━━━━━━━━━━━━━━━━━━━\u001b[0m\u001b[37m\u001b[0m \u001b[1m103s\u001b[0m 219ms/step - accuracy: 0.3157 - loss: 2.0053 - val_accuracy: 0.3552 - val_loss: 1.7910 - learning_rate: 1.2000e-05\n",
      "Epoch 2/12\n",
      "\u001b[1m449/449\u001b[0m \u001b[32m━━━━━━━━━━━━━━━━━━━━\u001b[0m\u001b[37m\u001b[0m \u001b[1m98s\u001b[0m 217ms/step - accuracy: 0.3865 - loss: 1.7262 - val_accuracy: 0.4087 - val_loss: 1.6813 - learning_rate: 1.2000e-05\n",
      "Epoch 3/12\n",
      "\u001b[1m449/449\u001b[0m \u001b[32m━━━━━━━━━━━━━━━━━━━━\u001b[0m\u001b[37m\u001b[0m \u001b[1m102s\u001b[0m 226ms/step - accuracy: 0.4171 - loss: 1.6619 - val_accuracy: 0.4257 - val_loss: 1.6146 - learning_rate: 1.2000e-05\n",
      "Epoch 4/12\n",
      "\u001b[1m449/449\u001b[0m \u001b[32m━━━━━━━━━━━━━━━━━━━━\u001b[0m\u001b[37m\u001b[0m \u001b[1m99s\u001b[0m 220ms/step - accuracy: 0.4455 - loss: 1.5989 - val_accuracy: 0.4354 - val_loss: 1.5876 - learning_rate: 1.2000e-05\n",
      "Epoch 5/12\n",
      "\u001b[1m449/449\u001b[0m \u001b[32m━━━━━━━━━━━━━━━━━━━━\u001b[0m\u001b[37m\u001b[0m \u001b[1m103s\u001b[0m 228ms/step - accuracy: 0.4579 - loss: 1.5711 - val_accuracy: 0.4418 - val_loss: 1.5859 - learning_rate: 1.2000e-05\n",
      "Epoch 6/12\n",
      "\u001b[1m449/449\u001b[0m \u001b[32m━━━━━━━━━━━━━━━━━━━━\u001b[0m\u001b[37m\u001b[0m \u001b[1m101s\u001b[0m 223ms/step - accuracy: 0.4716 - loss: 1.5261 - val_accuracy: 0.4513 - val_loss: 1.5516 - learning_rate: 1.2000e-05\n",
      "Epoch 7/12\n",
      "\u001b[1m449/449\u001b[0m \u001b[32m━━━━━━━━━━━━━━━━━━━━\u001b[0m\u001b[37m\u001b[0m \u001b[1m101s\u001b[0m 224ms/step - accuracy: 0.4719 - loss: 1.5209 - val_accuracy: 0.4555 - val_loss: 1.5521 - learning_rate: 1.2000e-05\n",
      "Epoch 8/12\n",
      "\u001b[1m449/449\u001b[0m \u001b[32m━━━━━━━━━━━━━━━━━━━━\u001b[0m\u001b[37m\u001b[0m \u001b[1m100s\u001b[0m 222ms/step - accuracy: 0.4896 - loss: 1.4844 - val_accuracy: 0.4660 - val_loss: 1.5218 - learning_rate: 1.2000e-05\n",
      "Epoch 9/12\n",
      "\u001b[1m449/449\u001b[0m \u001b[32m━━━━━━━━━━━━━━━━━━━━\u001b[0m\u001b[37m\u001b[0m \u001b[1m101s\u001b[0m 225ms/step - accuracy: 0.5004 - loss: 1.4567 - val_accuracy: 0.4502 - val_loss: 1.5514 - learning_rate: 1.2000e-05\n",
      "Epoch 10/12\n",
      "\u001b[1m449/449\u001b[0m \u001b[32m━━━━━━━━━━━━━━━━━━━━\u001b[0m\u001b[37m\u001b[0m \u001b[1m0s\u001b[0m 213ms/step - accuracy: 0.5067 - loss: 1.4440\n",
      "Epoch 10: ReduceLROnPlateau reducing learning rate to 9.000000318337698e-06.\n",
      "\u001b[1m449/449\u001b[0m \u001b[32m━━━━━━━━━━━━━━━━━━━━\u001b[0m\u001b[37m\u001b[0m \u001b[1m99s\u001b[0m 219ms/step - accuracy: 0.5067 - loss: 1.4440 - val_accuracy: 0.4627 - val_loss: 1.5194 - learning_rate: 1.2000e-05\n",
      "Epoch 11/12\n",
      "\u001b[1m449/449\u001b[0m \u001b[32m━━━━━━━━━━━━━━━━━━━━\u001b[0m\u001b[37m\u001b[0m \u001b[1m100s\u001b[0m 223ms/step - accuracy: 0.5090 - loss: 1.4294 - val_accuracy: 0.4922 - val_loss: 1.4464 - learning_rate: 9.0000e-06\n",
      "Epoch 12/12\n",
      "\u001b[1m449/449\u001b[0m \u001b[32m━━━━━━━━━━━━━━━━━━━━\u001b[0m\u001b[37m\u001b[0m \u001b[1m98s\u001b[0m 217ms/step - accuracy: 0.5133 - loss: 1.4161 - val_accuracy: 0.4699 - val_loss: 1.5076 - learning_rate: 9.0000e-06\n"
     ]
    }
   ],
   "source": [
    "history_nuevo = modelo_cnn_reentreno.fit(datagen.flow(X_train_new, y_train_new, batch_size=64),\n",
    "                                        epochs=12,\n",
    "                                        verbose=1,\n",
    "                                        validation_data=(X_val_new, y_val_new),\n",
    "                                        callbacks=[early_stopping_reentreno , reduce_lr_reentreno])"
   ]
  },
  {
   "cell_type": "markdown",
   "metadata": {},
   "source": [
    "## **EVALUACIÓN DEL MODELO CONTRA EL CONJUNTO DE PRUEBAS**"
   ]
  },
  {
   "cell_type": "code",
   "execution_count": 13,
   "metadata": {},
   "outputs": [],
   "source": [
    "nueva_test_loss, nueva_test_accuracy = modelo_cnn_reentreno.evaluate(X_test_new, y_test_new, verbose=0)\n",
    "\n",
    "\n"
   ]
  },
  {
   "cell_type": "code",
   "execution_count": 15,
   "metadata": {},
   "outputs": [
    {
     "name": "stdout",
     "output_type": "stream",
     "text": [
      "La nueva precisión (accuracy) del modelo en el conjunto de pruebas (test) fue de: 50.9071\n",
      "La nueva perdida (loss) del modelo en el conjunto de pruebas (test) fue de:1.4236\n"
     ]
    }
   ],
   "source": [
    "print(f'La nueva precisión (accuracy) del modelo en el conjunto de pruebas (test) fue de: {nueva_test_accuracy*100:.4f}')\n",
    "print(f'La nueva perdida (loss) del modelo en el conjunto de pruebas (test) fue de:{nueva_test_loss:.4f}')"
   ]
  },
  {
   "cell_type": "markdown",
   "metadata": {},
   "source": [
    "## **NUEVO ESTUDIO DE LA MEJORA DEL MODELO A LO LARGO DE LAS EPOCHS TRAS EL REENTRENO**"
   ]
  },
  {
   "cell_type": "code",
   "execution_count": 16,
   "metadata": {},
   "outputs": [
    {
     "data": {
      "image/png": "[encoded data removed]",
      "text/plain": [
       "<Figure size 1200x400 with 2 Axes>"
      ]
     },
     "metadata": {},
     "output_type": "display_data"
    }
   ],
   "source": [
    "train_accuracy_nuevo = history_nuevo.history['accuracy']\n",
    "val_accuracy_nuevo =  history_nuevo.history['val_accuracy']\n",
    "train_loss_nuevo =  history_nuevo.history['loss']\n",
    "val_loss_nuevo =  history_nuevo.history['val_loss']\n",
    "\n",
    "# Crear gráficos de precisión\n",
    "plt.figure(figsize=(12, 4))\n",
    "plt.subplot(1, 2, 1)\n",
    "plt.plot(train_accuracy_nuevo, label='ENTRENAMIENTO')\n",
    "plt.plot(val_accuracy_nuevo, label='VALIDACIÓN')\n",
    "plt.xlabel('EPOCA')\n",
    "plt.ylabel('PRECISIÓN')\n",
    "plt.title('EVOLUCIÓN DE LA PRECISION')\n",
    "plt.legend()\n",
    "\n",
    "# Crear gráficos de pérdida\n",
    "plt.subplot(1, 2, 2)\n",
    "plt.plot(train_loss_nuevo, label='ENTRENAMIENTO')\n",
    "plt.plot(val_loss_nuevo, label='VALIDACIÓN')\n",
    "plt.xlabel('EPOCA')\n",
    "plt.ylabel('Loss')\n",
    "plt.title('EVOLUCIÓN DE LA PÉRDIDA')\n",
    "plt.legend()\n",
    "\n",
    "plt.tight_layout()\n",
    "plt.show()"
   ]
  },
  {
   "cell_type": "markdown",
   "metadata": {},
   "source": [
    ">**Vemos que pese a que ambos, entrenamiento y validación, están creciendo, la diferencia entre estos es alta, por lo que empieza a haber sobre entreno.**\n",
    "**Pese a que en este reentreno ‘datagen’ y Learning rate tiene los mismos parámetros que el entreno se ha investigados con diferentes parámetros, sin encontrar mejorias, lo que hace pensar que debido a las diferencias en las fotografías tal vez sea necesario cambiar los parámetros en el modelo.**"
   ]
  },
  {
   "cell_type": "markdown",
   "metadata": {},
   "source": [
    "## **EVALUACIÓN DEL MODELO CONTRA EL CONJUNTO DE PRUEBAS**"
   ]
  },
  {
   "cell_type": "code",
   "execution_count": 17,
   "metadata": {},
   "outputs": [
    {
     "name": "stdout",
     "output_type": "stream",
     "text": [
      "\u001b[1m112/112\u001b[0m \u001b[32m━━━━━━━━━━━━━━━━━━━━\u001b[0m\u001b[37m\u001b[0m \u001b[1m3s\u001b[0m 29ms/step\n"
     ]
    }
   ],
   "source": [
    "y_pred_nuevas = modelo_cnn_reentreno.predict(X_test_new)\n",
    "y_pred_classes_nuevas = np.argmax(y_pred_nuevas, axis=1) \n",
    "\n"
   ]
  },
  {
   "cell_type": "markdown",
   "metadata": {},
   "source": [
    "## **CLASSIFICATION REPORT CNN**"
   ]
  },
  {
   "cell_type": "code",
   "execution_count": 18,
   "metadata": {},
   "outputs": [
    {
     "name": "stdout",
     "output_type": "stream",
     "text": [
      "              precision    recall  f1-score   support\n",
      "\n",
      "      Enfado       0.44      0.50      0.47       512\n",
      "        Asco       0.44      0.52      0.48       511\n",
      "       Miedo       0.41      0.49      0.45       512\n",
      "   Felicidad       0.83      0.75      0.79       512\n",
      "    Tristeza       0.51      0.32      0.40       512\n",
      "    Sorpresa       0.38      0.51      0.43       512\n",
      "     Neutral       0.76      0.46      0.58       512\n",
      "\n",
      "    accuracy                           0.51      3583\n",
      "   macro avg       0.54      0.51      0.51      3583\n",
      "weighted avg       0.54      0.51      0.51      3583\n",
      "\n"
     ]
    }
   ],
   "source": [
    "class_names = ['Enfado', 'Asco', 'Miedo', 'Felicidad', 'Tristeza', 'Sorpresa', 'Neutral']\n",
    "print(classification_report(y_test_new, y_pred_classes_nuevas, target_names=class_names))"
   ]
  },
  {
   "cell_type": "markdown",
   "metadata": {},
   "source": [
    "## **GUARDADO DEL MODELO REENTRENADO**"
   ]
  },
  {
   "cell_type": "code",
   "execution_count": 19,
   "metadata": {},
   "outputs": [
    {
     "name": "stderr",
     "output_type": "stream",
     "text": [
      "WARNING:absl:You are saving your model as an HDF5 file via `model.save()` or `keras.saving.save_model(model)`. This file format is considered legacy. We recommend using instead the native Keras format, e.g. `model.save('my_model.keras')` or `keras.saving.save_model(model, 'my_model.keras')`. \n"
     ]
    }
   ],
   "source": [
    "modelo_cnn_reentreno.save(os.path.join('modelos_entrenados', 'modelo_cnn_reentrenado.h5'))\n",
    "\n",
    "save_model(modelo_cnn_reentreno, os.path.join('modelos_entrenados', 'modelo_cnnreentrenado.keras'))"
   ]
  }
 ],
 "metadata": {
  "kernelspec": {
   "display_name": "Python 3",
   "language": "python",
   "name": "python3"
  },
  "language_info": {
   "codemirror_mode": {
    "name": "ipython",
    "version": 3
   },
   "file_extension": ".py",
   "mimetype": "text/x-python",
   "name": "python",
   "nbconvert_exporter": "python",
   "pygments_lexer": "ipython3",
   "version": "3.12.3"
  }
 },
 "nbformat": 4,
 "nbformat_minor": 2
}
